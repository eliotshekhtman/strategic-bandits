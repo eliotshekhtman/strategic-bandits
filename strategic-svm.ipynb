{
 "cells": [
  {
   "cell_type": "code",
   "execution_count": 1,
   "id": "a1767fad",
   "metadata": {},
   "outputs": [],
   "source": [
    "import numpy as np\n",
    "import matplotlib.pyplot as plt\n",
    "from sklearn.svm import SVC\n",
    "import cvxpy as cp"
   ]
  },
  {
   "cell_type": "code",
   "execution_count": 2,
   "id": "dd7c38aa",
   "metadata": {},
   "outputs": [
    {
     "name": "stdout",
     "output_type": "stream",
     "text": [
      "[-1.79109255e-19  2.85112420e-02  2.79973443e-19  3.37658729e-20\n",
      " -2.72802663e-19  1.49285011e-01 -9.94082533e-20  8.35373900e-20\n",
      "  2.46718649e-01  5.78224144e-01 -4.03739463e-19  1.01242860e-03\n",
      " -9.28486180e-20  2.26767464e-01 -1.58813678e-19 -8.97232272e-20\n",
      " -1.22145729e-19 -1.51509428e-19  1.12060672e-19 -3.48318635e-19]\n",
      "[ 2.50938945  0.          2.78354615  1.79425782 13.08579183  0.\n",
      "  0.73716363  3.35344995  0.          0.          8.93825054  0.\n",
      "  7.02955161  0.          4.71068649  3.18873635  2.06090107 10.08166738\n",
      "  3.0481157   8.53268239]\n"
     ]
    }
   ],
   "source": [
    "# Problem data.\n",
    "m = 30\n",
    "n = 20\n",
    "np.random.seed(1)\n",
    "A = np.random.randn(m, n)\n",
    "b = np.random.randn(m)\n",
    "\n",
    "# Construct the problem.\n",
    "x = cp.Variable(n)\n",
    "objective = cp.Minimize(cp.sum_squares(A @ x - b))\n",
    "constraints = [0 <= x, x <= 1]\n",
    "prob = cp.Problem(objective, constraints)\n",
    "\n",
    "# The optimal objective value is returned by `prob.solve()`.\n",
    "result = prob.solve()\n",
    "# The optimal value for x is stored in `x.value`.\n",
    "print(x.value)\n",
    "# The optimal Lagrange multiplier for a constraint is stored in\n",
    "# `constraint.dual_value`.\n",
    "print(constraints[0].dual_value)"
   ]
  },
  {
   "cell_type": "code",
   "execution_count": 7,
   "id": "60b69858",
   "metadata": {},
   "outputs": [
    {
     "data": {
      "text/plain": [
       "array([[3., 3., 1.],\n",
       "       [4., 4., 1.]])"
      ]
     },
     "execution_count": 7,
     "metadata": {},
     "output_type": "execute_result"
    }
   ],
   "source": [
    "np.hstack([np.array([[3,3],[4,4]]), np.ones(2).reshape(-1, 1)])"
   ]
  },
  {
   "cell_type": "code",
   "execution_count": 115,
   "id": "e37945e3",
   "metadata": {},
   "outputs": [],
   "source": [
    "def softmax(M, axis=-1):\n",
    "    return cp.exp(M - cp.log(cp.sum(cp.exp(M), axis=axis, keepdims=True)))\n",
    "\n",
    "def strategic_svm(X, A, u, C=1):\n",
    "    n, d = X.shape\n",
    "    _, m = A.shape\n",
    "    X = np.hstack([X, np.ones(n).reshape(-1, 1)]) # attach bias column\n",
    "    one_m = np.ones(m)\n",
    "    phi = cp.Variable([m, d+1])\n",
    "    zeta = cp.Variable(n)\n",
    "    \n",
    "    objective = cp.Minimize(cp.sum_squares(phi) + C * cp.sum(zeta))\n",
    "    constraints = [cp.multiply((u @ A.T), cp.sum(cp.multiply(A, (phi @ X.T).T), axis=1)) >= 1 - zeta,\n",
    "                  phi >= 0]\n",
    "    prob = cp.Problem(objective, constraints)#, constraints)\n",
    "    result = prob.solve()#qcp=True)\n",
    "    \n",
    "    return phi.value"
   ]
  },
  {
   "cell_type": "code",
   "execution_count": 143,
   "id": "82a9210b",
   "metadata": {},
   "outputs": [],
   "source": [
    "def simple_strategic_svm(X, Y, reward=0.3, C=1):\n",
    "    n, d = X.shape\n",
    "    X = np.hstack([X, np.ones(n).reshape(-1, 1)]) # attach bias column\n",
    "    phi = cp.Variable(d+1)\n",
    "    zeta = cp.Variable(n)\n",
    "    \n",
    "    objective = cp.Minimize(cp.sum_squares(phi) + C * cp.sum(zeta))\n",
    "    constraints = [cp.multiply(reward * Y, cp.multiply(Y, (phi @ X.T).T)) >= 1 - zeta,\n",
    "                  phi >= 0]\n",
    "    prob = cp.Problem(objective, constraints)#, constraints)\n",
    "    result = prob.solve()#qcp=True)\n",
    "    \n",
    "    return phi.value"
   ]
  },
  {
   "cell_type": "code",
   "execution_count": 144,
   "id": "3a867b34",
   "metadata": {},
   "outputs": [
    {
     "data": {
      "text/plain": [
       "array([2.4, 2.4, 0.6])"
      ]
     },
     "execution_count": 144,
     "metadata": {},
     "output_type": "execute_result"
    }
   ],
   "source": [
    "phi = np.random.randn(3)\n",
    "X = np.array([[1,1,1],[3,3,1],[5,5,1],[7,7,1]])\n",
    "X_oneless = X[:,:-1]\n",
    "Y = np.array([1, 1, -1, -1])\n",
    "simple_strategic_svm(X_oneless, Y, reward=0.3)"
   ]
  },
  {
   "cell_type": "code",
   "execution_count": 139,
   "id": "d88255c3",
   "metadata": {},
   "outputs": [],
   "source": [
    "def normal_svm(X, A, u, C=1):\n",
    "    n, d = X.shape\n",
    "    _, m = A.shape\n",
    "    X = np.hstack([X, np.ones(n).reshape(-1, 1)]) # attach bias column\n",
    "    one_m = np.ones(m)\n",
    "    phi = cp.Variable([m, d+1])\n",
    "    zeta = cp.Variable(n)\n",
    "    \n",
    "    objective = cp.Minimize(cp.sum_squares(phi) + C * cp.sum(zeta))\n",
    "    constraints = [cp.sum(cp.multiply(A, (phi @ X.T).T), axis=1) >= \n",
    "                   1 - zeta,\n",
    "                  phi >= 0]\n",
    "    prob = cp.Problem(objective, constraints)\n",
    "    result = prob.solve()\n",
    "    \n",
    "    return phi.value\n",
    "\n",
    "def normal_svm(X, A, u, C=1):\n",
    "    n, d = X.shape\n",
    "    _, m = A.shape\n",
    "    X = np.hstack([X, np.ones(n).reshape(-1, 1)]) # attach bias column\n",
    "    one_m = np.ones(m)\n",
    "    phi = cp.Variable([m, d+1])\n",
    "    zeta = cp.Variable(n)\n",
    "    \n",
    "    objective = cp.Minimize(cp.sum_squares(phi) + C * cp.sum(zeta))\n",
    "    constraints = [cp.norm2((X @ phi.T) - A, axis=1) >= 1 - zeta,\n",
    "                  phi >= 0]\n",
    "    prob = cp.Problem(objective, constraints)\n",
    "    result = prob.solve()\n",
    "    \n",
    "    return phi.value"
   ]
  },
  {
   "cell_type": "code",
   "execution_count": 140,
   "id": "47ca53fe",
   "metadata": {},
   "outputs": [
    {
     "ename": "TypeError",
     "evalue": "sum_squares() got an unexpected keyword argument 'dim'",
     "output_type": "error",
     "traceback": [
      "\u001b[1;31m---------------------------------------------------------------------------\u001b[0m",
      "\u001b[1;31mTypeError\u001b[0m                                 Traceback (most recent call last)",
      "Input \u001b[1;32mIn [140]\u001b[0m, in \u001b[0;36m<cell line: 1>\u001b[1;34m()\u001b[0m\n\u001b[1;32m----> 1\u001b[0m phi \u001b[38;5;241m=\u001b[39m \u001b[43mnormal_svm\u001b[49m\u001b[43m(\u001b[49m\u001b[43mX_oneless\u001b[49m\u001b[43m,\u001b[49m\u001b[43m \u001b[49m\u001b[43mA\u001b[49m\u001b[43m,\u001b[49m\u001b[43m \u001b[49m\u001b[43mu\u001b[49m\u001b[43m)\u001b[49m\n",
      "Input \u001b[1;32mIn [139]\u001b[0m, in \u001b[0;36mnormal_svm\u001b[1;34m(X, A, u, C)\u001b[0m\n\u001b[0;32m     24\u001b[0m zeta \u001b[38;5;241m=\u001b[39m cp\u001b[38;5;241m.\u001b[39mVariable(n)\n\u001b[0;32m     26\u001b[0m objective \u001b[38;5;241m=\u001b[39m cp\u001b[38;5;241m.\u001b[39mMinimize(cp\u001b[38;5;241m.\u001b[39msum_squares(phi) \u001b[38;5;241m+\u001b[39m C \u001b[38;5;241m*\u001b[39m cp\u001b[38;5;241m.\u001b[39msum(zeta))\n\u001b[1;32m---> 27\u001b[0m constraints \u001b[38;5;241m=\u001b[39m [\u001b[43mcp\u001b[49m\u001b[38;5;241;43m.\u001b[39;49m\u001b[43msum_squares\u001b[49m\u001b[43m(\u001b[49m\u001b[43m(\u001b[49m\u001b[43mX\u001b[49m\u001b[43m \u001b[49m\u001b[38;5;241;43m@\u001b[39;49m\u001b[43m \u001b[49m\u001b[43mphi\u001b[49m\u001b[38;5;241;43m.\u001b[39;49m\u001b[43mT\u001b[49m\u001b[43m)\u001b[49m\u001b[43m \u001b[49m\u001b[38;5;241;43m-\u001b[39;49m\u001b[43m \u001b[49m\u001b[43mA\u001b[49m\u001b[43m,\u001b[49m\u001b[43m \u001b[49m\u001b[43mdim\u001b[49m\u001b[38;5;241;43m=\u001b[39;49m\u001b[38;5;241;43m1\u001b[39;49m\u001b[43m)\u001b[49m \u001b[38;5;241m>\u001b[39m\u001b[38;5;241m=\u001b[39m \u001b[38;5;241m1\u001b[39m \u001b[38;5;241m-\u001b[39m zeta,\n\u001b[0;32m     28\u001b[0m               phi \u001b[38;5;241m>\u001b[39m\u001b[38;5;241m=\u001b[39m \u001b[38;5;241m0\u001b[39m]\n\u001b[0;32m     29\u001b[0m prob \u001b[38;5;241m=\u001b[39m cp\u001b[38;5;241m.\u001b[39mProblem(objective, constraints)\n\u001b[0;32m     30\u001b[0m result \u001b[38;5;241m=\u001b[39m prob\u001b[38;5;241m.\u001b[39msolve()\n",
      "\u001b[1;31mTypeError\u001b[0m: sum_squares() got an unexpected keyword argument 'dim'"
     ]
    }
   ],
   "source": [
    "phi = normal_svm(X_oneless, A, u)"
   ]
  },
  {
   "cell_type": "code",
   "execution_count": 124,
   "id": "a9114507",
   "metadata": {},
   "outputs": [
    {
     "data": {
      "text/plain": [
       "array([[18., 18.,  3.],\n",
       "       [ 4.,  4.,  2.]])"
      ]
     },
     "execution_count": 124,
     "metadata": {},
     "output_type": "execute_result"
    }
   ],
   "source": [
    "phi"
   ]
  },
  {
   "cell_type": "code",
   "execution_count": 38,
   "id": "aba38d70",
   "metadata": {},
   "outputs": [
    {
     "data": {
      "text/plain": [
       "(4, 3)"
      ]
     },
     "execution_count": 38,
     "metadata": {},
     "output_type": "execute_result"
    }
   ],
   "source": [
    "np.hstack([X, np.ones(4).reshape(-1, 1)])\n",
    "X.shape"
   ]
  },
  {
   "cell_type": "code",
   "execution_count": 11,
   "id": "1453785b",
   "metadata": {},
   "outputs": [
    {
     "data": {
      "text/plain": [
       "array([[-0.59334375,  0.5103076 , -0.91579185],\n",
       "       [-0.40725204,  0.98495167,  1.07125243]])"
      ]
     },
     "execution_count": 11,
     "metadata": {},
     "output_type": "execute_result"
    }
   ],
   "source": [
    "phi = np.random.randn(2, 3)\n",
    "X = np.array([[1,1,1],[3,3,1],[5,5,1],[7,7,1]])\n",
    "X_oneless = X[:,:-1]\n",
    "X_oneless\n",
    "A = np.array([[0,1], [0,1], [1,0], [1,0]])\n",
    "one_m = np.ones(2)\n",
    "phi"
   ]
  },
  {
   "cell_type": "code",
   "execution_count": 30,
   "id": "81a6363e",
   "metadata": {},
   "outputs": [
    {
     "data": {
      "text/plain": [
       "array([3, 2])"
      ]
     },
     "execution_count": 30,
     "metadata": {},
     "output_type": "execute_result"
    }
   ],
   "source": [
    "u = np.array([3,2])# .reshape(1, -1)\n",
    "u"
   ]
  },
  {
   "cell_type": "code",
   "execution_count": 61,
   "id": "7f4104a7",
   "metadata": {},
   "outputs": [
    {
     "data": {
      "text/plain": [
       "(4, 2)"
      ]
     },
     "execution_count": 61,
     "metadata": {},
     "output_type": "execute_result"
    }
   ],
   "source": [
    "np.multiply(A, (phi @ X.T).T).shape"
   ]
  },
  {
   "cell_type": "code",
   "execution_count": 19,
   "id": "e3a758d4",
   "metadata": {},
   "outputs": [
    {
     "data": {
      "text/plain": [
       "array([ 1.64895206,  2.80435131, -1.33097264, -1.49704495])"
      ]
     },
     "execution_count": 19,
     "metadata": {},
     "output_type": "execute_result"
    }
   ],
   "source": [
    "np.sum(A * (phi @ X.T).T, axis=-1)"
   ]
  },
  {
   "cell_type": "code",
   "execution_count": 31,
   "id": "33dfbdf0",
   "metadata": {},
   "outputs": [
    {
     "data": {
      "text/plain": [
       "array([0.30142009, 2.11400166, 3.92658323, 5.7391648 ])"
      ]
     },
     "execution_count": 31,
     "metadata": {},
     "output_type": "execute_result"
    }
   ],
   "source": [
    "u @ (phi @ X.T)"
   ]
  },
  {
   "cell_type": "code",
   "execution_count": 50,
   "id": "9350f75c",
   "metadata": {},
   "outputs": [
    {
     "data": {
      "text/plain": [
       "array([0.65012405, 1.63945099, 2.62877793, 3.61810488])"
      ]
     },
     "execution_count": 50,
     "metadata": {},
     "output_type": "execute_result"
    }
   ],
   "source": [
    "one_m @ (phi @ X.T)"
   ]
  },
  {
   "cell_type": "code",
   "execution_count": null,
   "id": "313b9ac9",
   "metadata": {},
   "outputs": [],
   "source": []
  }
 ],
 "metadata": {
  "kernelspec": {
   "display_name": "Python 3 (ipykernel)",
   "language": "python",
   "name": "python3"
  },
  "language_info": {
   "codemirror_mode": {
    "name": "ipython",
    "version": 3
   },
   "file_extension": ".py",
   "mimetype": "text/x-python",
   "name": "python",
   "nbconvert_exporter": "python",
   "pygments_lexer": "ipython3",
   "version": "3.9.12"
  }
 },
 "nbformat": 4,
 "nbformat_minor": 5
}
