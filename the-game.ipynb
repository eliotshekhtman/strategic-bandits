{
 "cells": [
  {
   "cell_type": "code",
   "execution_count": 1,
   "id": "395e3ba5",
   "metadata": {},
   "outputs": [],
   "source": [
    "import torch\n",
    "from torch import nn\n",
    "import numpy as np\n",
    "import matplotlib.pyplot as plt\n",
    "from tqdm import tqdm\n",
    "from optimization import *"
   ]
  },
  {
   "cell_type": "code",
   "execution_count": 2,
   "id": "d014d985",
   "metadata": {},
   "outputs": [],
   "source": [
    "def sample(d):\n",
    "    return torch.concat((torch.rand(d), torch.ones(1)))"
   ]
  },
  {
   "cell_type": "code",
   "execution_count": 3,
   "id": "f376db55",
   "metadata": {},
   "outputs": [],
   "source": [
    "agent_attempts = 2\n",
    "agent_iters = 200\n",
    "dm_attempts = 6\n",
    "dm_iters = 2000\n",
    "temperature = 0.02"
   ]
  },
  {
   "cell_type": "code",
   "execution_count": 4,
   "id": "6662f1ad",
   "metadata": {},
   "outputs": [
    {
     "name": "stderr",
     "output_type": "stream",
     "text": [
      "C:\\Users\\Alex\\Desktop\\academics\\strat-bandits\\strategic-bandits\\optimization.py:93: UserWarning: The use of `x.T` on tensors of dimension other than 2 to reverse their shape is deprecated and it will throw an error in a future release. Consider `x.mT` to transpose batches of matricesor `x.permute(*torch.arange(x.ndim - 1, -1, -1))` to reverse the dimensions of a tensor. (Triggered internally at  C:\\cb\\pytorch_1000000000000\\work\\aten\\src\\ATen\\native\\TensorShape.cpp:2318.)\n",
      "  return softmax( phi @ x.T , temp=temp)\n"
     ]
    }
   ],
   "source": [
    "m = 2\n",
    "d = 2\n",
    "u = torch.tensor([0.15, 0.1])\n",
    "W = torch.tensor([[1., 1/np.sqrt(5)], [0., 2/np.sqrt(5)], [0.2, 0.0]], dtype=torch.float32)\n",
    "phi_opt = torch.tensor([[1., 0., 0.2], [1/np.sqrt(5), 2/np.sqrt(5), 0.]], dtype=torch.float32)\n",
    "Xs = []\n",
    "X_hats = []\n",
    "xWs = []\n",
    "phi = torch.rand((m, d + 1))\n",
    "x = sample(d)\n",
    "x_hat = gragent(x, phi, u, attempts=agent_attempts, iters=agent_iters, temp=temperature)\n",
    "Xs.append(x)\n",
    "X_hats.append(x_hat)\n",
    "dataset = torch.stack(Xs)\n",
    "dataset_hat = torch.stack(X_hats)\n",
    "cum_dm_reward = dm_reward(dataset @ W, dataset_hat, phi, temp=temperature)\n",
    "xW = gr_xW(cum_dm_reward.item(), x_hat, phi, temp=temperature, attempts=5, iters=1_000)\n",
    "opt_cum_dm_reward = dm_reward(dataset @ W, dataset_hat, phi_opt, temp=temperature)\n",
    "rand_cum_dm_reward = dm_reward(dataset @ W, dataset_hat, torch.rand((m, d + 1)), temp=temperature)\n",
    "xWs.append(xW)\n",
    "pred_xWs = torch.stack(xWs)"
   ]
  },
  {
   "cell_type": "code",
   "execution_count": 79,
   "id": "e062a108",
   "metadata": {},
   "outputs": [
    {
     "name": "stderr",
     "output_type": "stream",
     "text": [
      "100%|████████████████████████████████████████████████████████████████████████████| 2000/2000 [00:00<00:00, 2392.35it/s]\n",
      "100%|████████████████████████████████████████████████████████████████████████████| 2000/2000 [00:01<00:00, 1609.01it/s]\n",
      "100%|████████████████████████████████████████████████████████████████████████████| 2000/2000 [00:01<00:00, 1327.14it/s]\n",
      "100%|████████████████████████████████████████████████████████████████████████████| 2000/2000 [00:01<00:00, 1291.16it/s]\n",
      "100%|████████████████████████████████████████████████████████████████████████████| 2000/2000 [00:01<00:00, 1313.22it/s]\n",
      "100%|████████████████████████████████████████████████████████████████████████████| 2000/2000 [00:01<00:00, 1328.98it/s]\n"
     ]
    },
    {
     "name": "stdout",
     "output_type": "stream",
     "text": [
      "Random:    0.7115113185002253 0.7969726920127869\n",
      "Predicted: 0.7708889154287485 0.8663068413734436\n",
      "Optimal:   0.8683026387141302 0.8953933119773865\n"
     ]
    }
   ],
   "source": [
    "phi = gr_phi(dataset_hat, pred_xWs, u, temp=temperature, attempts=dm_attempts, iters=dm_iters, prev_phi=phi) # dataset @ W\n",
    "x = sample(d)\n",
    "x_hat = gragent(x, phi, u, attempts=agent_attempts, iters=agent_iters, temp=temperature)\n",
    "Xs.append(x)\n",
    "X_hats.append(x_hat)\n",
    "dataset = torch.stack(Xs)\n",
    "dataset_hat = torch.stack(X_hats)\n",
    "\n",
    "new_dm_reward = dm_reward(dataset @ W, dataset_hat, phi, temp=temperature)\n",
    "cum_dm_reward += new_dm_reward\n",
    "xW = gr_xW(new_dm_reward.item(), x_hat, phi, temp=temperature, attempts=5, iters=1_000)\n",
    "xWs.append(xW)\n",
    "pred_xWs = torch.stack(xWs)\n",
    "\n",
    "opt_new_dm_reward = dm_reward(dataset @ W, dataset, phi_opt, temp=temperature)\n",
    "opt_cum_dm_reward += opt_new_dm_reward\n",
    "\n",
    "rand_new_dm_reward = dm_reward(dataset @ W, dataset_hat, torch.rand((m, d + 1)), temp=temperature)\n",
    "rand_cum_dm_reward += rand_new_dm_reward\n",
    "\n",
    "lbls = [a[0] > a[1] for a in classify(x=dataset, phi=phi_opt, temp=temperature).T]\n",
    "preds = [a[0] > a[1] for a in classify(x=dataset_hat, phi=phi, temp=temperature).T]\n",
    "n = len(preds)\n",
    "print('Random:   ', rand_cum_dm_reward.item() / n, rand_new_dm_reward.item())\n",
    "print('Predicted:', cum_dm_reward.item() / n, new_dm_reward.item())\n",
    "print('Optimal:  ', opt_cum_dm_reward.item() / n, opt_new_dm_reward.item())"
   ]
  },
  {
   "cell_type": "code",
   "execution_count": 80,
   "id": "cf5df701",
   "metadata": {},
   "outputs": [
    {
     "data": {
      "text/plain": [
       "<matplotlib.collections.PathCollection at 0x2258fa5ed60>"
      ]
     },
     "execution_count": 80,
     "metadata": {},
     "output_type": "execute_result"
    },
    {
     "data": {
      "image/png": "[encoded data removed]",
      "text/plain": [
       "<Figure size 432x288 with 1 Axes>"
      ]
     },
     "metadata": {
      "needs_background": "light"
     },
     "output_type": "display_data"
    }
   ],
   "source": [
    "plt.gca().set_aspect('equal')\n",
    "plt.xlim(0, 1)\n",
    "plt.ylim(0, 1)\n",
    "plt.scatter(dataset_hat[:,0], dataset_hat[:,1], c=preds)"
   ]
  },
  {
   "cell_type": "code",
   "execution_count": 81,
   "id": "46075fa6",
   "metadata": {},
   "outputs": [
    {
     "data": {
      "text/plain": [
       "<matplotlib.collections.PathCollection at 0x2258fa2c5e0>"
      ]
     },
     "execution_count": 81,
     "metadata": {},
     "output_type": "execute_result"
    },
    {
     "data": {
      "image/png": "[encoded data removed]",
      "text/plain": [
       "<Figure size 432x288 with 1 Axes>"
      ]
     },
     "metadata": {
      "needs_background": "light"
     },
     "output_type": "display_data"
    }
   ],
   "source": [
    "plt.gca().set_aspect('equal')\n",
    "plt.xlim(0, 1)\n",
    "plt.ylim(0, 1)\n",
    "plt.scatter(dataset[:,0], dataset[:,1], c=lbls)"
   ]
  },
  {
   "cell_type": "code",
   "execution_count": 82,
   "id": "28a573a8",
   "metadata": {},
   "outputs": [
    {
     "data": {
      "text/plain": [
       "([tensor([0.5660, 0.5968]),\n",
       "  tensor([0.2822, 0.5415]),\n",
       "  tensor([0.8680, 0.5155]),\n",
       "  tensor([0.6200, 0.7289]),\n",
       "  tensor([0.5777, 0.7554]),\n",
       "  tensor([0.7386, 0.0548]),\n",
       "  tensor([0.7864, 0.9579]),\n",
       "  tensor([0.3811, 0.7748]),\n",
       "  tensor([0.7623, 0.2101]),\n",
       "  tensor([0.8287, 0.8251]),\n",
       "  tensor([0.8024, 0.4571]),\n",
       "  tensor([0.5852, 0.8803]),\n",
       "  tensor([-0.0120,  0.8002]),\n",
       "  tensor([0.2748, 0.7038]),\n",
       "  tensor([0.8191, 0.3681]),\n",
       "  tensor([0.8402, 0.4590]),\n",
       "  tensor([0.8449, 0.6641]),\n",
       "  tensor([0.0950, 0.8505]),\n",
       "  tensor([0.8668, 0.6186]),\n",
       "  tensor([0.5979, 0.8474]),\n",
       "  tensor([0.8834, 0.8363]),\n",
       "  tensor([0.8646, 0.3566]),\n",
       "  tensor([0.9986, 0.8688]),\n",
       "  tensor([0.7832, 0.4436]),\n",
       "  tensor([0.4421, 0.8744]),\n",
       "  tensor([0.9310, 0.8663])],\n",
       " tensor([[1.1406, 0.5860],\n",
       "         [0.8703, 0.4970],\n",
       "         [0.8457, 0.4636],\n",
       "         [0.4553, 0.3717],\n",
       "         [0.4538, 0.2851],\n",
       "         [0.9234, 0.4503],\n",
       "         [1.0727, 0.4733],\n",
       "         [0.4060, 0.9521],\n",
       "         [1.1650, 0.9142],\n",
       "         [0.4113, 0.1182],\n",
       "         [0.6450, 0.3688],\n",
       "         [0.2945, 0.2439],\n",
       "         [0.8296, 0.9796],\n",
       "         [0.9456, 1.2076],\n",
       "         [1.1874, 0.9849],\n",
       "         [1.1474, 0.8838],\n",
       "         [0.8241, 0.7164],\n",
       "         [0.7936, 1.0371],\n",
       "         [1.0337, 1.1502],\n",
       "         [0.2401, 0.6047],\n",
       "         [0.9705, 1.2204],\n",
       "         [1.1023, 1.1814],\n",
       "         [0.6588, 0.9620],\n",
       "         [1.1232, 1.1447],\n",
       "         [0.6461, 0.7530],\n",
       "         [0.5351, 0.6646]]))"
      ]
     },
     "execution_count": 82,
     "metadata": {},
     "output_type": "execute_result"
    }
   ],
   "source": [
    "xWs, dataset @ W"
   ]
  },
  {
   "cell_type": "code",
   "execution_count": null,
   "id": "a11b5eb3",
   "metadata": {},
   "outputs": [],
   "source": []
  }
 ],
 "metadata": {
  "kernelspec": {
   "display_name": "Python 3 (ipykernel)",
   "language": "python",
   "name": "python3"
  },
  "language_info": {
   "codemirror_mode": {
    "name": "ipython",
    "version": 3
   },
   "file_extension": ".py",
   "mimetype": "text/x-python",
   "name": "python",
   "nbconvert_exporter": "python",
   "pygments_lexer": "ipython3",
   "version": "3.9.12"
  }
 },
 "nbformat": 4,
 "nbformat_minor": 5
}
