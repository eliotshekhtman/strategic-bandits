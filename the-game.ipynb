{
 "cells": [
  {
   "cell_type": "code",
   "execution_count": 1,
   "id": "e76a5bdc",
   "metadata": {},
   "outputs": [],
   "source": [
    "import torch\n",
    "from torch import nn\n",
    "import numpy as np\n",
    "import matplotlib.pyplot as plt\n",
    "from tqdm import tqdm\n",
    "from optimization import *"
   ]
  },
  {
   "cell_type": "code",
   "execution_count": 2,
   "id": "80c0ce71",
   "metadata": {},
   "outputs": [],
   "source": [
    "def sample(d):\n",
    "    return torch.concat((torch.rand(d), torch.ones(1)))"
   ]
  },
  {
   "cell_type": "code",
   "execution_count": 3,
   "id": "ddb55906",
   "metadata": {},
   "outputs": [],
   "source": [
    "agent_attempts = 2\n",
    "agent_iters = 200\n",
    "dm_attempts = 6\n",
    "dm_iters = 2000\n",
    "temperature = 0.02"
   ]
  },
  {
   "cell_type": "code",
   "execution_count": 4,
   "id": "e173d7b9",
   "metadata": {},
   "outputs": [
    {
     "name": "stderr",
     "output_type": "stream",
     "text": [
      "C:\\Users\\Alex\\Desktop\\academics\\strat-bandits\\strategic-bandits\\optimization.py:93: UserWarning: The use of `x.T` on tensors of dimension other than 2 to reverse their shape is deprecated and it will throw an error in a future release. Consider `x.mT` to transpose batches of matricesor `x.permute(*torch.arange(x.ndim - 1, -1, -1))` to reverse the dimensions of a tensor. (Triggered internally at  C:\\cb\\pytorch_1000000000000\\work\\aten\\src\\ATen\\native\\TensorShape.cpp:2318.)\n",
      "  return softmax( phi @ x.T , temp=temp)\n"
     ]
    }
   ],
   "source": [
    "m = 2\n",
    "d = 2\n",
    "u = torch.tensor([0.15, 0.1])\n",
    "W = torch.tensor([[1., 1/np.sqrt(5)], [0., 2/np.sqrt(5)], [0.2, 0.0]], dtype=torch.float32)\n",
    "phi_opt = torch.tensor([[1., 0., 0.2], [1/np.sqrt(5), 2/np.sqrt(5), 0.]], dtype=torch.float32)\n",
    "Xs = []\n",
    "X_hats = []\n",
    "phi = torch.rand((m, d + 1))\n",
    "x = sample(d)\n",
    "x_hat = gragent(x, phi, u, attempts=agent_attempts, iters=agent_iters, temp=temperature)\n",
    "Xs.append(x)\n",
    "X_hats.append(x_hat)\n",
    "dataset = torch.stack(Xs)\n",
    "dataset_hat = torch.stack(X_hats)\n",
    "cum_dm_reward = dm_reward(dataset @ W, dataset_hat, phi, temp=temperature)\n",
    "opt_cum_dm_reward = dm_reward(dataset @ W, dataset_hat, phi_opt, temp=temperature)"
   ]
  },
  {
   "cell_type": "code",
   "execution_count": null,
   "id": "b47be43f",
   "metadata": {},
   "outputs": [
    {
     "name": "stderr",
     "output_type": "stream",
     "text": [
      "100%|████████████████████████████████████████████████████████████████████████████| 2000/2000 [00:01<00:00, 1959.12it/s]\n",
      " 61%|██████████████████████████████████████████████▎                             | 1220/2000 [00:00<00:00, 2019.01it/s]"
     ]
    }
   ],
   "source": [
    "phi = gr_phi(dataset_hat, dataset @ W, u, temp=temperature, attempts=dm_attempts, iters=dm_iters)\n",
    "x = sample(d)\n",
    "x_hat = gragent(x, phi, u, attempts=agent_attempts, iters=agent_iters, temp=temperature)\n",
    "Xs.append(x)\n",
    "X_hats.append(x_hat)\n",
    "dataset = torch.stack(Xs)\n",
    "dataset_hat = torch.stack(X_hats)\n",
    "new_dm_reward = dm_reward(dataset @ W, dataset_hat, phi, temp=temperature)\n",
    "cum_dm_reward += new_dm_reward\n",
    "\n",
    "opt_new_dm_reward = dm_reward(dataset @ W, dataset_hat, phi_opt, temp=temperature)\n",
    "opt_cum_dm_reward += opt_new_dm_reward\n",
    "\n",
    "lbls = [a[0] > a[1] for a in classify(x=dataset, phi=phi_opt, temp=temperature).T]\n",
    "preds = [a[0] > a[1] for a in classify(x=dataset_hat, phi=phi, temp=temperature).T]\n",
    "print('Predicted:', cum_dm_reward.item(), new_dm_reward.item())\n",
    "print('Optimal:  ', opt_cum_dm_reward.item(), opt_new_dm_reward.item())"
   ]
  },
  {
   "cell_type": "code",
   "execution_count": null,
   "id": "14b4c000",
   "metadata": {},
   "outputs": [],
   "source": [
    "plt.gca().set_aspect('equal')\n",
    "plt.scatter(dataset_hat[:,0], dataset_hat[:,1], c=preds)"
   ]
  },
  {
   "cell_type": "code",
   "execution_count": null,
   "id": "ef2d9905",
   "metadata": {},
   "outputs": [],
   "source": [
    "plt.gca().set_aspect('equal')\n",
    "plt.scatter(dataset[:,0], dataset[:,1], c=lbls)"
   ]
  },
  {
   "cell_type": "code",
   "execution_count": null,
   "id": "0a3bdc59",
   "metadata": {},
   "outputs": [],
   "source": []
  }
 ],
 "metadata": {
  "kernelspec": {
   "display_name": "Python 3 (ipykernel)",
   "language": "python",
   "name": "python3"
  },
  "language_info": {
   "codemirror_mode": {
    "name": "ipython",
    "version": 3
   },
   "file_extension": ".py",
   "mimetype": "text/x-python",
   "name": "python",
   "nbconvert_exporter": "python",
   "pygments_lexer": "ipython3",
   "version": "3.9.12"
  }
 },
 "nbformat": 4,
 "nbformat_minor": 5
}
