{
 "cells": [
  {
   "cell_type": "code",
   "execution_count": 4,
   "id": "d54b5828",
   "metadata": {},
   "outputs": [],
   "source": [
    "import numpy as np\n",
    "import matplotlib.pyplot as plt\n",
    "from sklearn.svm import SVC\n",
    "import cvxpy as cp"
   ]
  },
  {
   "cell_type": "code",
   "execution_count": 5,
   "id": "2656ffcf",
   "metadata": {},
   "outputs": [
    {
     "name": "stdout",
     "output_type": "stream",
     "text": [
      "[-1.79109255e-19  2.85112420e-02  2.79973443e-19  3.37658729e-20\n",
      " -2.72802663e-19  1.49285011e-01 -9.94082533e-20  8.35373900e-20\n",
      "  2.46718649e-01  5.78224144e-01 -4.03739463e-19  1.01242860e-03\n",
      " -9.28486180e-20  2.26767464e-01 -1.58813678e-19 -8.97232272e-20\n",
      " -1.22145729e-19 -1.51509428e-19  1.12060672e-19 -3.48318635e-19]\n",
      "[ 2.50938945  0.          2.78354615  1.79425782 13.08579183  0.\n",
      "  0.73716363  3.35344995  0.          0.          8.93825054  0.\n",
      "  7.02955161  0.          4.71068649  3.18873635  2.06090107 10.08166738\n",
      "  3.0481157   8.53268239]\n"
     ]
    }
   ],
   "source": [
    "# Problem data.\n",
    "m = 30\n",
    "n = 20\n",
    "np.random.seed(1)\n",
    "A = np.random.randn(m, n)\n",
    "b = np.random.randn(m)\n",
    "\n",
    "# Construct the problem.\n",
    "x = cp.Variable(n)\n",
    "objective = cp.Minimize(cp.sum_squares(A @ x - b))\n",
    "constraints = [0 <= x, x <= 1]\n",
    "prob = cp.Problem(objective, constraints)\n",
    "\n",
    "# The optimal objective value is returned by `prob.solve()`.\n",
    "result = prob.solve()\n",
    "# The optimal value for x is stored in `x.value`.\n",
    "print(x.value)\n",
    "# The optimal Lagrange multiplier for a constraint is stored in\n",
    "# `constraint.dual_value`.\n",
    "print(constraints[0].dual_value)"
   ]
  },
  {
   "cell_type": "code",
   "execution_count": 6,
   "id": "a18c4c4b",
   "metadata": {},
   "outputs": [],
   "source": [
    "def softmax(M, axis=-1):\n",
    "    return cp.exp(M - cp.log(cp.sum(cp.exp(M), axis=axis, keepdims=True)))\n",
    "\n",
    "def l1norm_agent(X, phi, b, u):\n",
    "    \"\"\"\n",
    "    Params\n",
    "    ------\n",
    "    X : (d,)\n",
    "    phi : (m,d)\n",
    "    b : (m,)\n",
    "    u : (m,)\n",
    "    \"\"\"\n",
    "    d, = X.shape\n",
    "    m, = b.shape\n",
    "    one_m = np.ones(m)\n",
    "    X_hat = cp.Variable(d)\n",
    "    \n",
    "    objective = cp.Maximize(u @ (phi @ X_hat + b) / (one_m @ (phi @ X_hat + b)) - 0.5 * cp.sum_squares(X - X_hat))\n",
    "    constraints = [-X_hat <= 0]\n",
    "    prob = cp.Problem(objective, constraints)#, constraints)\n",
    "    result = prob.solve()#qcp=True)\n",
    "    \n",
    "    return X_hat.value"
   ]
  },
  {
   "cell_type": "code",
   "execution_count": 7,
   "id": "5fc9b42e",
   "metadata": {},
   "outputs": [],
   "source": [
    "def lfp(A, b, c, d, alpha, beta):\n",
    "    m, n = A.shape\n",
    "    \n",
    "    x = cp.Variable(n)\n",
    "    objective = cp.Maximize((c @ x + alpha) / (d @ x + beta))\n",
    "    constraints = [x >= 0]\n",
    "    prob = cp.Problem(objective, constraints)\n",
    "    result = prob.solve(qcp=True)\n",
    "    \n",
    "    return x.value"
   ]
  },
  {
   "cell_type": "code",
   "execution_count": 8,
   "id": "1257049a",
   "metadata": {},
   "outputs": [],
   "source": [
    "m = 3\n",
    "n = 2\n",
    "A = np.random.rand(m, n)\n",
    "b = np.random.rand(m)\n",
    "c = np.random.rand(n)\n",
    "d = np.random.rand(n)\n",
    "alpha = np.random.rand()\n",
    "beta = np.random.rand()"
   ]
  },
  {
   "cell_type": "code",
   "execution_count": 9,
   "id": "50db7791",
   "metadata": {},
   "outputs": [
    {
     "data": {
      "text/plain": [
       "(array([[0.68245371, 0.22820573],\n",
       "        [0.01376751, 0.41672396],\n",
       "        [0.93848189, 0.34302811]]),\n",
       " array([0.7797443 , 0.17473631, 0.34195284]),\n",
       " array([0.14459772, 0.71677081]),\n",
       " array([0.69930762, 0.68849732]),\n",
       " 0.25339603448629966,\n",
       " 0.6923601216234089)"
      ]
     },
     "execution_count": 9,
     "metadata": {},
     "output_type": "execute_result"
    }
   ],
   "source": [
    "A, b, c, d, alpha, beta"
   ]
  },
  {
   "cell_type": "code",
   "execution_count": 10,
   "id": "ee3d2f14",
   "metadata": {},
   "outputs": [],
   "source": [
    "# lfp(A, b, c, d, alpha, beta)"
   ]
  },
  {
   "cell_type": "code",
   "execution_count": 11,
   "id": "32d7080b",
   "metadata": {},
   "outputs": [
    {
     "data": {
      "text/plain": [
       "array(0.50000165)"
      ]
     },
     "execution_count": 11,
     "metadata": {},
     "output_type": "execute_result"
    }
   ],
   "source": [
    "x = cp.Variable()\n",
    "concave_fractional_fn = cp.sqrt(x) / cp.exp(x)\n",
    "problem = cp.Problem(cp.Maximize(concave_fractional_fn))\n",
    "assert problem.is_dqcp()\n",
    "problem.solve(qcp=True)\n",
    "x.value"
   ]
  },
  {
   "cell_type": "code",
   "execution_count": 776,
   "id": "8713beaf",
   "metadata": {},
   "outputs": [],
   "source": [
    "d = 2\n",
    "m = 2\n",
    "X = np.ones(d)\n",
    "phi = np.ones((m, d))\n",
    "b = np.ones(m)\n",
    "u = np.ones(m)\n",
    "one_m = np.ones(m)"
   ]
  },
  {
   "cell_type": "code",
   "execution_count": 777,
   "id": "b9abc19e",
   "metadata": {},
   "outputs": [
    {
     "data": {
      "text/plain": [
       "1.0"
      ]
     },
     "execution_count": 777,
     "metadata": {},
     "output_type": "execute_result"
    }
   ],
   "source": [
    "u @ (phi @ X) / (one_m @ (phi @ X))"
   ]
  },
  {
   "cell_type": "code",
   "execution_count": 778,
   "id": "3acd0f45",
   "metadata": {},
   "outputs": [],
   "source": [
    "# l1norm_agent(X, phi, b, u)"
   ]
  },
  {
   "cell_type": "code",
   "execution_count": 779,
   "id": "4c420fdf",
   "metadata": {},
   "outputs": [],
   "source": [
    "import torch\n",
    "from torch import nn"
   ]
  },
  {
   "cell_type": "code",
   "execution_count": 780,
   "id": "9a83587f",
   "metadata": {},
   "outputs": [],
   "source": [
    "def criterion(X_hat, X, phi, b, u):\n",
    "    m, = b.shape\n",
    "    one_m = torch.ones(m)\n",
    "    action = phi @ X_hat + b\n",
    "    reward = u @ action / (one_m @ action)\n",
    "    cost = torch.sum((X - X_hat) ** 2)\n",
    "    return - (reward - 0.5 * cost)"
   ]
  },
  {
   "cell_type": "code",
   "execution_count": 781,
   "id": "e1c06505",
   "metadata": {},
   "outputs": [],
   "source": [
    "X_hat = torch.tensor([1.] * d)\n",
    "X = torch.tensor([2.] * d)\n",
    "phi = torch.tensor(phi, dtype=torch.float32)\n",
    "b = torch.tensor(b, dtype=torch.float32)\n",
    "u = torch.tensor(u, dtype=torch.float32)"
   ]
  },
  {
   "cell_type": "code",
   "execution_count": 782,
   "id": "f0442ddd",
   "metadata": {},
   "outputs": [],
   "source": [
    "X_hat.requires_grad_(True)\n",
    "optimizer = torch.optim.SGD([X_hat], lr=0.01, momentum=0.9)"
   ]
  },
  {
   "cell_type": "code",
   "execution_count": 783,
   "id": "54602b81",
   "metadata": {},
   "outputs": [
    {
     "data": {
      "text/plain": [
       "(tensor([1.0100, 1.0100], requires_grad=True),\n",
       " tensor(-0., grad_fn=<NegBackward0>))"
      ]
     },
     "execution_count": 783,
     "metadata": {},
     "output_type": "execute_result"
    }
   ],
   "source": [
    "optimizer.zero_grad()\n",
    "loss = criterion(X_hat, X, phi, b, u)\n",
    "loss.backward()\n",
    "optimizer.step()\n",
    "X_hat, loss"
   ]
  },
  {
   "cell_type": "code",
   "execution_count": 903,
   "id": "5637f75e",
   "metadata": {},
   "outputs": [],
   "source": [
    "def l1norm_gragent(X, phi, b, u):\n",
    "    m, d = phi.shape\n",
    "    one_m = torch.ones(m)\n",
    "    X_hat = torch.rand(d)\n",
    "    X_hat.requires_grad_(True)\n",
    "    optimizer = torch.optim.SGD([X_hat], lr=0.01, momentum=0.9)\n",
    "    for _ in range(300):\n",
    "        optimizer.zero_grad()\n",
    "        action = phi @ X_hat + b\n",
    "        reward = u @ action / (one_m @ action)\n",
    "        cost = torch.sum((X - X_hat) ** 2)\n",
    "        loss = - (reward - 0.5 * cost)\n",
    "        loss.backward()\n",
    "        optimizer.step()\n",
    "        # print(loss)\n",
    "    return X_hat\n",
    "\n",
    "def softmax_gragent(X, phi, b, u):\n",
    "    m, d = phi.shape\n",
    "    one_m = torch.ones(m)\n",
    "    X_hat = torch.rand(d)\n",
    "    X_hat.requires_grad_(True)\n",
    "    softmax = nn.Softmax()\n",
    "    optimizer = torch.optim.SGD([X_hat], lr=0.01, momentum=0.9)\n",
    "    for _ in range(300):\n",
    "        optimizer.zero_grad()\n",
    "        reward = u @ softmax(phi @ X_hat + b)\n",
    "        cost = torch.sum((X - X_hat) ** 2)\n",
    "        loss = - (reward - 0.5 * cost)\n",
    "        loss.backward()\n",
    "        optimizer.step()\n",
    "        # print(loss)\n",
    "    return X_hat\n",
    "\n",
    "def l1norm_decision_maker_criterion(Xs_hat, Xs, phi, b, W, u):\n",
    "    Xs_hat = Xs_hat.T\n",
    "    Xs = Xs.T\n",
    "    d, m = W.shape\n",
    "    one_m = torch.ones(m)\n",
    "    action = phi @ Xs_hat + b.reshape(-1, 1) # md @ dn + m --> mn\n",
    "    penalty = 0\n",
    "    reward = X @ (W @ action / (one_m @ action)) # nd @ (dm @ mn / (m @ mn)) --> n\n",
    "    for i in range(d):\n",
    "        pen_i = Xs[i] * Xs_hat[i] # n\n",
    "        for j in range(d):\n",
    "            pen_i -= ((u @ phi[:, i]) * (one_m @ phi[:, j]) + (u @ phi[:, j]) * (one_m @ phi[:, i])) * Xs_hat[i] * Xs_hat[j]\n",
    "        pen_i += 2 * Xs_hat[i] ** 2\n",
    "        penalty -= pen_i ** 2\n",
    "    # print(reward, penalty)\n",
    "    return torch.sum(reward)\n",
    "    \n",
    "\n",
    "def l1norm_phi(Xs, W, u):\n",
    "    d, m = W.shape\n",
    "    # one_m = torch.ones(m)\n",
    "    Xs_hat = Xs.clone()\n",
    "    Xs_hat.requires_grad_(True)\n",
    "    phi = torch.rand((m, d))\n",
    "    phi.requires_grad_(True)\n",
    "    b = torch.zeros(m)\n",
    "    b.requires_grad_(True)\n",
    "    optimizer = torch.optim.Adam([Xs_hat, phi, b], lr=0.0001)\n",
    "    for _ in range(300):\n",
    "        optimizer.zero_grad()\n",
    "        loss = -l1norm_decision_maker_criterion(Xs_hat, Xs, phi, b, W, u)\n",
    "        # print(loss)\n",
    "        loss.backward()\n",
    "        optimizer.step()\n",
    "    return phi, b\n",
    "    "
   ]
  },
  {
   "cell_type": "code",
   "execution_count": 905,
   "id": "c90ea51a",
   "metadata": {},
   "outputs": [
    {
     "name": "stdout",
     "output_type": "stream",
     "text": [
      "tensor([0.4115, 0.4050, 0.4071, 0.4052, 0.4169], grad_fn=<SqueezeBackward3>) tensor([-0.9453, -5.6546, -7.0174, -3.9155, -1.3345], grad_fn=<SubBackward0>)\n",
      "tensor(-2.0457, grad_fn=<NegBackward0>)\n",
      "tensor([0.4116, 0.4051, 0.4072, 0.4053, 0.4170], grad_fn=<SqueezeBackward3>) tensor([-0.9458, -5.6538, -7.0176, -3.9150, -1.3351], grad_fn=<SubBackward0>)\n",
      "tensor(-2.0461, grad_fn=<NegBackward0>)\n",
      "tensor([0.4117, 0.4051, 0.4072, 0.4054, 0.4171], grad_fn=<SqueezeBackward3>) tensor([-0.9462, -5.6529, -7.0179, -3.9145, -1.3357], grad_fn=<SubBackward0>)\n",
      "tensor(-2.0464, grad_fn=<NegBackward0>)\n",
      "tensor([0.4117, 0.4052, 0.4073, 0.4054, 0.4172], grad_fn=<SqueezeBackward3>) tensor([-0.9466, -5.6521, -7.0181, -3.9140, -1.3363], grad_fn=<SubBackward0>)\n",
      "tensor(-2.0468, grad_fn=<NegBackward0>)\n",
      "tensor([0.4118, 0.4052, 0.4073, 0.4055, 0.4173], grad_fn=<SqueezeBackward3>) tensor([-0.9470, -5.6513, -7.0183, -3.9135, -1.3369], grad_fn=<SubBackward0>)\n",
      "tensor(-2.0472, grad_fn=<NegBackward0>)\n",
      "tensor([0.4119, 0.4053, 0.4074, 0.4055, 0.4173], grad_fn=<SqueezeBackward3>) tensor([-0.9475, -5.6505, -7.0186, -3.9130, -1.3375], grad_fn=<SubBackward0>)\n",
      "tensor(-2.0475, grad_fn=<NegBackward0>)\n",
      "tensor([0.4120, 0.4054, 0.4075, 0.4056, 0.4174], grad_fn=<SqueezeBackward3>) tensor([-0.9479, -5.6497, -7.0188, -3.9125, -1.3382], grad_fn=<SubBackward0>)\n",
      "tensor(-2.0479, grad_fn=<NegBackward0>)\n",
      "tensor([0.4121, 0.4054, 0.4075, 0.4057, 0.4175], grad_fn=<SqueezeBackward3>) tensor([-0.9483, -5.6488, -7.0191, -3.9120, -1.3388], grad_fn=<SubBackward0>)\n",
      "tensor(-2.0482, grad_fn=<NegBackward0>)\n",
      "tensor([0.4121, 0.4055, 0.4076, 0.4057, 0.4176], grad_fn=<SqueezeBackward3>) tensor([-0.9487, -5.6480, -7.0193, -3.9115, -1.3394], grad_fn=<SubBackward0>)\n",
      "tensor(-2.0486, grad_fn=<NegBackward0>)\n",
      "tensor([0.4122, 0.4056, 0.4076, 0.4058, 0.4177], grad_fn=<SqueezeBackward3>) tensor([-0.9491, -5.6472, -7.0196, -3.9110, -1.3399], grad_fn=<SubBackward0>)\n",
      "tensor(-2.0489, grad_fn=<NegBackward0>)\n",
      "tensor([0.4123, 0.4056, 0.4077, 0.4059, 0.4178], grad_fn=<SqueezeBackward3>) tensor([-0.9496, -5.6464, -7.0198, -3.9105, -1.3405], grad_fn=<SubBackward0>)\n",
      "tensor(-2.0493, grad_fn=<NegBackward0>)\n",
      "tensor([0.4124, 0.4057, 0.4078, 0.4059, 0.4179], grad_fn=<SqueezeBackward3>) tensor([-0.9500, -5.6456, -7.0200, -3.9100, -1.3411], grad_fn=<SubBackward0>)\n",
      "tensor(-2.0496, grad_fn=<NegBackward0>)\n",
      "tensor([0.4125, 0.4057, 0.4078, 0.4060, 0.4179], grad_fn=<SqueezeBackward3>) tensor([-0.9504, -5.6447, -7.0203, -3.9095, -1.3417], grad_fn=<SubBackward0>)\n",
      "tensor(-2.0500, grad_fn=<NegBackward0>)\n",
      "tensor([0.4125, 0.4058, 0.4079, 0.4061, 0.4180], grad_fn=<SqueezeBackward3>) tensor([-0.9508, -5.6439, -7.0205, -3.9090, -1.3423], grad_fn=<SubBackward0>)\n",
      "tensor(-2.0503, grad_fn=<NegBackward0>)\n",
      "tensor([0.4126, 0.4059, 0.4079, 0.4061, 0.4181], grad_fn=<SqueezeBackward3>) tensor([-0.9512, -5.6431, -7.0208, -3.9086, -1.3429], grad_fn=<SubBackward0>)\n",
      "tensor(-2.0507, grad_fn=<NegBackward0>)\n",
      "tensor([0.4127, 0.4059, 0.4080, 0.4062, 0.4182], grad_fn=<SqueezeBackward3>) tensor([-0.9517, -5.6423, -7.0210, -3.9081, -1.3434], grad_fn=<SubBackward0>)\n",
      "tensor(-2.0510, grad_fn=<NegBackward0>)\n",
      "tensor([0.4128, 0.4060, 0.4081, 0.4063, 0.4183], grad_fn=<SqueezeBackward3>) tensor([-0.9521, -5.6415, -7.0212, -3.9076, -1.3440], grad_fn=<SubBackward0>)\n",
      "tensor(-2.0514, grad_fn=<NegBackward0>)\n",
      "tensor([0.4129, 0.4061, 0.4081, 0.4063, 0.4184], grad_fn=<SqueezeBackward3>) tensor([-0.9525, -5.6407, -7.0215, -3.9071, -1.3445], grad_fn=<SubBackward0>)\n",
      "tensor(-2.0517, grad_fn=<NegBackward0>)\n",
      "tensor([0.4129, 0.4061, 0.4082, 0.4064, 0.4184], grad_fn=<SqueezeBackward3>) tensor([-0.9529, -5.6398, -7.0217, -3.9066, -1.3451], grad_fn=<SubBackward0>)\n",
      "tensor(-2.0521, grad_fn=<NegBackward0>)\n",
      "tensor([0.4130, 0.4062, 0.4082, 0.4064, 0.4185], grad_fn=<SqueezeBackward3>) tensor([-0.9533, -5.6390, -7.0220, -3.9061, -1.3456], grad_fn=<SubBackward0>)\n",
      "tensor(-2.0524, grad_fn=<NegBackward0>)\n",
      "tensor([0.4131, 0.4062, 0.4083, 0.4065, 0.4186], grad_fn=<SqueezeBackward3>) tensor([-0.9537, -5.6382, -7.0222, -3.9056, -1.3461], grad_fn=<SubBackward0>)\n",
      "tensor(-2.0528, grad_fn=<NegBackward0>)\n",
      "tensor([0.4132, 0.4063, 0.4084, 0.4066, 0.4187], grad_fn=<SqueezeBackward3>) tensor([-0.9542, -5.6374, -7.0224, -3.9051, -1.3466], grad_fn=<SubBackward0>)\n",
      "tensor(-2.0531, grad_fn=<NegBackward0>)\n",
      "tensor([0.4133, 0.4064, 0.4084, 0.4066, 0.4188], grad_fn=<SqueezeBackward3>) tensor([-0.9546, -5.6366, -7.0227, -3.9046, -1.3471], grad_fn=<SubBackward0>)\n",
      "tensor(-2.0535, grad_fn=<NegBackward0>)\n",
      "tensor([0.4133, 0.4064, 0.4085, 0.4067, 0.4189], grad_fn=<SqueezeBackward3>) tensor([-0.9550, -5.6358, -7.0229, -3.9041, -1.3476], grad_fn=<SubBackward0>)\n",
      "tensor(-2.0538, grad_fn=<NegBackward0>)\n",
      "tensor([0.4134, 0.4065, 0.4085, 0.4068, 0.4190], grad_fn=<SqueezeBackward3>) tensor([-0.9554, -5.6349, -7.0231, -3.9036, -1.3481], grad_fn=<SubBackward0>)\n",
      "tensor(-2.0542, grad_fn=<NegBackward0>)\n",
      "tensor([0.4135, 0.4066, 0.4086, 0.4068, 0.4190], grad_fn=<SqueezeBackward3>) tensor([-0.9558, -5.6341, -7.0234, -3.9031, -1.3486], grad_fn=<SubBackward0>)\n",
      "tensor(-2.0545, grad_fn=<NegBackward0>)\n",
      "tensor([0.4136, 0.4066, 0.4087, 0.4069, 0.4191], grad_fn=<SqueezeBackward3>) tensor([-0.9562, -5.6333, -7.0236, -3.9026, -1.3490], grad_fn=<SubBackward0>)\n",
      "tensor(-2.0549, grad_fn=<NegBackward0>)\n",
      "tensor([0.4137, 0.4067, 0.4087, 0.4070, 0.4192], grad_fn=<SqueezeBackward3>) tensor([-0.9566, -5.6325, -7.0238, -3.9021, -1.3495], grad_fn=<SubBackward0>)\n",
      "tensor(-2.0552, grad_fn=<NegBackward0>)\n",
      "tensor([0.4137, 0.4067, 0.4088, 0.4070, 0.4193], grad_fn=<SqueezeBackward3>) tensor([-0.9570, -5.6317, -7.0241, -3.9016, -1.3499], grad_fn=<SubBackward0>)\n",
      "tensor(-2.0556, grad_fn=<NegBackward0>)\n",
      "tensor([0.4138, 0.4068, 0.4088, 0.4071, 0.4194], grad_fn=<SqueezeBackward3>) tensor([-0.9574, -5.6308, -7.0243, -3.9011, -1.3503], grad_fn=<SubBackward0>)\n",
      "tensor(-2.0559, grad_fn=<NegBackward0>)\n",
      "tensor([0.4139, 0.4069, 0.4089, 0.4072, 0.4195], grad_fn=<SqueezeBackward3>) tensor([-0.9578, -5.6300, -7.0245, -3.9006, -1.3507], grad_fn=<SubBackward0>)\n",
      "tensor(-2.0563, grad_fn=<NegBackward0>)\n",
      "tensor([0.4140, 0.4069, 0.4090, 0.4072, 0.4195], grad_fn=<SqueezeBackward3>) tensor([-0.9582, -5.6292, -7.0247, -3.9001, -1.3510], grad_fn=<SubBackward0>)\n",
      "tensor(-2.0566, grad_fn=<NegBackward0>)\n",
      "tensor([0.4141, 0.4070, 0.4090, 0.4073, 0.4196], grad_fn=<SqueezeBackward3>) tensor([-0.9586, -5.6284, -7.0250, -3.8996, -1.3514], grad_fn=<SubBackward0>)\n",
      "tensor(-2.0570, grad_fn=<NegBackward0>)\n",
      "tensor([0.4141, 0.4071, 0.4091, 0.4074, 0.4197], grad_fn=<SqueezeBackward3>) tensor([-0.9590, -5.6276, -7.0252, -3.8991, -1.3517], grad_fn=<SubBackward0>)\n",
      "tensor(-2.0573, grad_fn=<NegBackward0>)\n",
      "tensor([0.4142, 0.4071, 0.4091, 0.4074, 0.4198], grad_fn=<SqueezeBackward3>) tensor([-0.9594, -5.6267, -7.0254, -3.8986, -1.3520], grad_fn=<SubBackward0>)\n",
      "tensor(-2.0577, grad_fn=<NegBackward0>)\n",
      "tensor([0.4143, 0.4072, 0.4092, 0.4075, 0.4199], grad_fn=<SqueezeBackward3>) tensor([-0.9598, -5.6259, -7.0256, -3.8981, -1.3523], grad_fn=<SubBackward0>)\n",
      "tensor(-2.0580, grad_fn=<NegBackward0>)\n",
      "tensor([0.4144, 0.4072, 0.4093, 0.4075, 0.4200], grad_fn=<SqueezeBackward3>) tensor([-0.9602, -5.6251, -7.0259, -3.8976, -1.3526], grad_fn=<SubBackward0>)\n",
      "tensor(-2.0584, grad_fn=<NegBackward0>)\n",
      "tensor([0.4145, 0.4073, 0.4093, 0.4076, 0.4200], grad_fn=<SqueezeBackward3>) tensor([-0.9606, -5.6243, -7.0261, -3.8971, -1.3528], grad_fn=<SubBackward0>)\n",
      "tensor(-2.0587, grad_fn=<NegBackward0>)\n",
      "tensor([0.4145, 0.4074, 0.4094, 0.4077, 0.4201], grad_fn=<SqueezeBackward3>) tensor([-0.9610, -5.6234, -7.0263, -3.8966, -1.3530], grad_fn=<SubBackward0>)\n",
      "tensor(-2.0591, grad_fn=<NegBackward0>)\n",
      "tensor([0.4146, 0.4074, 0.4094, 0.4077, 0.4202], grad_fn=<SqueezeBackward3>) tensor([-0.9614, -5.6226, -7.0265, -3.8961, -1.3532], grad_fn=<SubBackward0>)\n",
      "tensor(-2.0594, grad_fn=<NegBackward0>)\n",
      "tensor([0.4147, 0.4075, 0.4095, 0.4078, 0.4203], grad_fn=<SqueezeBackward3>) tensor([-0.9618, -5.6218, -7.0267, -3.8956, -1.3533], grad_fn=<SubBackward0>)\n",
      "tensor(-2.0598, grad_fn=<NegBackward0>)\n",
      "tensor([0.4148, 0.4075, 0.4096, 0.4079, 0.4204], grad_fn=<SqueezeBackward3>) tensor([-0.9622, -5.6210, -7.0270, -3.8951, -1.3535], grad_fn=<SubBackward0>)\n",
      "tensor(-2.0601, grad_fn=<NegBackward0>)\n",
      "tensor([0.4149, 0.4076, 0.4096, 0.4079, 0.4205], grad_fn=<SqueezeBackward3>) tensor([-0.9625, -5.6201, -7.0272, -3.8946, -1.3536], grad_fn=<SubBackward0>)\n",
      "tensor(-2.0605, grad_fn=<NegBackward0>)\n",
      "tensor([0.4149, 0.4077, 0.4097, 0.4080, 0.4206], grad_fn=<SqueezeBackward3>) tensor([-0.9629, -5.6193, -7.0274, -3.8941, -1.3536], grad_fn=<SubBackward0>)\n",
      "tensor(-2.0608, grad_fn=<NegBackward0>)\n",
      "tensor([0.4150, 0.4077, 0.4097, 0.4081, 0.4206], grad_fn=<SqueezeBackward3>) tensor([-0.9633, -5.6185, -7.0276, -3.8936, -1.3537], grad_fn=<SubBackward0>)\n",
      "tensor(-2.0612, grad_fn=<NegBackward0>)\n",
      "tensor([0.4151, 0.4078, 0.4098, 0.4081, 0.4207], grad_fn=<SqueezeBackward3>) tensor([-0.9637, -5.6176, -7.0278, -3.8931, -1.3537], grad_fn=<SubBackward0>)\n",
      "tensor(-2.0615, grad_fn=<NegBackward0>)\n",
      "tensor([0.4152, 0.4079, 0.4099, 0.4082, 0.4208], grad_fn=<SqueezeBackward3>) tensor([-0.9641, -5.6168, -7.0280, -3.8926, -1.3536], grad_fn=<SubBackward0>)\n",
      "tensor(-2.0619, grad_fn=<NegBackward0>)\n",
      "tensor([0.4153, 0.4079, 0.4099, 0.4083, 0.4209], grad_fn=<SqueezeBackward3>) tensor([-0.9644, -5.6160, -7.0282, -3.8921, -1.3536], grad_fn=<SubBackward0>)\n",
      "tensor(-2.0622, grad_fn=<NegBackward0>)\n",
      "tensor([0.4153, 0.4080, 0.4100, 0.4083, 0.4210], grad_fn=<SqueezeBackward3>) tensor([-0.9648, -5.6151, -7.0284, -3.8916, -1.3535], grad_fn=<SubBackward0>)\n",
      "tensor(-2.0626, grad_fn=<NegBackward0>)\n",
      "tensor([0.4154, 0.4080, 0.4101, 0.4084, 0.4211], grad_fn=<SqueezeBackward3>) tensor([-0.9652, -5.6143, -7.0286, -3.8911, -1.3534], grad_fn=<SubBackward0>)\n",
      "tensor(-2.0630, grad_fn=<NegBackward0>)\n",
      "tensor([0.4155, 0.4081, 0.4101, 0.4084, 0.4211], grad_fn=<SqueezeBackward3>) tensor([-0.9655, -5.6135, -7.0288, -3.8906, -1.3532], grad_fn=<SubBackward0>)\n",
      "tensor(-2.0633, grad_fn=<NegBackward0>)\n",
      "tensor([0.4156, 0.4082, 0.4102, 0.4085, 0.4212], grad_fn=<SqueezeBackward3>) tensor([-0.9659, -5.6127, -7.0290, -3.8901, -1.3530], grad_fn=<SubBackward0>)\n",
      "tensor(-2.0637, grad_fn=<NegBackward0>)\n",
      "tensor([0.4157, 0.4082, 0.4102, 0.4086, 0.4213], grad_fn=<SqueezeBackward3>) tensor([-0.9663, -5.6118, -7.0292, -3.8896, -1.3528], grad_fn=<SubBackward0>)\n",
      "tensor(-2.0640, grad_fn=<NegBackward0>)\n",
      "tensor([0.4157, 0.4083, 0.4103, 0.4086, 0.4214], grad_fn=<SqueezeBackward3>) tensor([-0.9666, -5.6110, -7.0294, -3.8891, -1.3525], grad_fn=<SubBackward0>)\n",
      "tensor(-2.0644, grad_fn=<NegBackward0>)\n",
      "tensor([0.4158, 0.4084, 0.4104, 0.4087, 0.4215], grad_fn=<SqueezeBackward3>) tensor([-0.9670, -5.6101, -7.0296, -3.8885, -1.3522], grad_fn=<SubBackward0>)\n",
      "tensor(-2.0647, grad_fn=<NegBackward0>)\n",
      "tensor([0.4159, 0.4084, 0.4104, 0.4088, 0.4216], grad_fn=<SqueezeBackward3>) tensor([-0.9674, -5.6093, -7.0298, -3.8880, -1.3519], grad_fn=<SubBackward0>)\n",
      "tensor(-2.0651, grad_fn=<NegBackward0>)\n",
      "tensor([0.4160, 0.4085, 0.4105, 0.4088, 0.4217], grad_fn=<SqueezeBackward3>) tensor([-0.9677, -5.6085, -7.0300, -3.8875, -1.3515], grad_fn=<SubBackward0>)\n",
      "tensor(-2.0654, grad_fn=<NegBackward0>)\n",
      "tensor([0.4161, 0.4085, 0.4105, 0.4089, 0.4217], grad_fn=<SqueezeBackward3>) tensor([-0.9681, -5.6076, -7.0302, -3.8870, -1.3511], grad_fn=<SubBackward0>)\n",
      "tensor(-2.0658, grad_fn=<NegBackward0>)\n",
      "tensor([0.4161, 0.4086, 0.4106, 0.4090, 0.4218], grad_fn=<SqueezeBackward3>) tensor([-0.9684, -5.6068, -7.0304, -3.8865, -1.3506], grad_fn=<SubBackward0>)\n",
      "tensor(-2.0661, grad_fn=<NegBackward0>)\n",
      "tensor([0.4162, 0.4087, 0.4107, 0.4090, 0.4219], grad_fn=<SqueezeBackward3>) tensor([-0.9688, -5.6060, -7.0306, -3.8860, -1.3502], grad_fn=<SubBackward0>)\n",
      "tensor(-2.0665, grad_fn=<NegBackward0>)\n",
      "tensor([0.4163, 0.4087, 0.4107, 0.4091, 0.4220], grad_fn=<SqueezeBackward3>) tensor([-0.9691, -5.6051, -7.0307, -3.8855, -1.3497], grad_fn=<SubBackward0>)\n",
      "tensor(-2.0668, grad_fn=<NegBackward0>)\n",
      "tensor([0.4164, 0.4088, 0.4108, 0.4091, 0.4221], grad_fn=<SqueezeBackward3>) tensor([-0.9695, -5.6043, -7.0309, -3.8849, -1.3491], grad_fn=<SubBackward0>)\n",
      "tensor(-2.0672, grad_fn=<NegBackward0>)\n",
      "tensor([0.4165, 0.4089, 0.4108, 0.4092, 0.4222], grad_fn=<SqueezeBackward3>) tensor([-0.9698, -5.6034, -7.0311, -3.8844, -1.3485], grad_fn=<SubBackward0>)\n",
      "tensor(-2.0675, grad_fn=<NegBackward0>)\n",
      "tensor([0.4165, 0.4089, 0.4109, 0.4093, 0.4222], grad_fn=<SqueezeBackward3>) tensor([-0.9701, -5.6026, -7.0313, -3.8839, -1.3479], grad_fn=<SubBackward0>)\n",
      "tensor(-2.0679, grad_fn=<NegBackward0>)\n",
      "tensor([0.4166, 0.4090, 0.4110, 0.4093, 0.4223], grad_fn=<SqueezeBackward3>) tensor([-0.9705, -5.6017, -7.0315, -3.8834, -1.3473], grad_fn=<SubBackward0>)\n",
      "tensor(-2.0682, grad_fn=<NegBackward0>)\n",
      "tensor([0.4167, 0.4090, 0.4110, 0.4094, 0.4224], grad_fn=<SqueezeBackward3>) tensor([-0.9708, -5.6009, -7.0316, -3.8829, -1.3466], grad_fn=<SubBackward0>)\n",
      "tensor(-2.0686, grad_fn=<NegBackward0>)\n",
      "tensor([0.4168, 0.4091, 0.4111, 0.4095, 0.4225], grad_fn=<SqueezeBackward3>) tensor([-0.9712, -5.6001, -7.0318, -3.8824, -1.3459], grad_fn=<SubBackward0>)\n",
      "tensor(-2.0689, grad_fn=<NegBackward0>)\n",
      "tensor([0.4169, 0.4092, 0.4111, 0.4095, 0.4226], grad_fn=<SqueezeBackward3>) tensor([-0.9715, -5.5992, -7.0320, -3.8818, -1.3452], grad_fn=<SubBackward0>)\n",
      "tensor(-2.0693, grad_fn=<NegBackward0>)\n",
      "tensor([0.4169, 0.4092, 0.4112, 0.4096, 0.4227], grad_fn=<SqueezeBackward3>) tensor([-0.9718, -5.5984, -7.0322, -3.8813, -1.3444], grad_fn=<SubBackward0>)\n",
      "tensor(-2.0696, grad_fn=<NegBackward0>)\n",
      "tensor([0.4170, 0.4093, 0.4113, 0.4097, 0.4228], grad_fn=<SqueezeBackward3>) tensor([-0.9721, -5.5975, -7.0323, -3.8808, -1.3437], grad_fn=<SubBackward0>)\n",
      "tensor(-2.0700, grad_fn=<NegBackward0>)\n",
      "tensor([0.4171, 0.4093, 0.4113, 0.4097, 0.4228], grad_fn=<SqueezeBackward3>) tensor([-0.9725, -5.5967, -7.0325, -3.8803, -1.3429], grad_fn=<SubBackward0>)\n",
      "tensor(-2.0703, grad_fn=<NegBackward0>)\n",
      "tensor([0.4172, 0.4094, 0.4114, 0.4098, 0.4229], grad_fn=<SqueezeBackward3>) tensor([-0.9728, -5.5958, -7.0327, -3.8797, -1.3420], grad_fn=<SubBackward0>)\n",
      "tensor(-2.0707, grad_fn=<NegBackward0>)\n",
      "tensor([0.4173, 0.4095, 0.4114, 0.4099, 0.4230], grad_fn=<SqueezeBackward3>) tensor([-0.9731, -5.5950, -7.0328, -3.8792, -1.3412], grad_fn=<SubBackward0>)\n",
      "tensor(-2.0710, grad_fn=<NegBackward0>)\n",
      "tensor([0.4173, 0.4095, 0.4115, 0.4099, 0.4231], grad_fn=<SqueezeBackward3>) tensor([-0.9734, -5.5941, -7.0330, -3.8787, -1.3403], grad_fn=<SubBackward0>)\n",
      "tensor(-2.0714, grad_fn=<NegBackward0>)\n",
      "tensor([0.4174, 0.4096, 0.4116, 0.4100, 0.4232], grad_fn=<SqueezeBackward3>) tensor([-0.9737, -5.5933, -7.0331, -3.8782, -1.3394], grad_fn=<SubBackward0>)\n",
      "tensor(-2.0717, grad_fn=<NegBackward0>)\n",
      "tensor([0.4175, 0.4097, 0.4116, 0.4100, 0.4233], grad_fn=<SqueezeBackward3>) tensor([-0.9740, -5.5924, -7.0333, -3.8776, -1.3385], grad_fn=<SubBackward0>)\n",
      "tensor(-2.0721, grad_fn=<NegBackward0>)\n",
      "tensor([0.4176, 0.4097, 0.4117, 0.4101, 0.4234], grad_fn=<SqueezeBackward3>) tensor([-0.9744, -5.5916, -7.0335, -3.8771, -1.3376], grad_fn=<SubBackward0>)\n",
      "tensor(-2.0724, grad_fn=<NegBackward0>)\n",
      "tensor([0.4177, 0.4098, 0.4117, 0.4102, 0.4234], grad_fn=<SqueezeBackward3>) tensor([-0.9747, -5.5907, -7.0336, -3.8766, -1.3367], grad_fn=<SubBackward0>)\n",
      "tensor(-2.0728, grad_fn=<NegBackward0>)\n",
      "tensor([0.4177, 0.4098, 0.4118, 0.4102, 0.4235], grad_fn=<SqueezeBackward3>) tensor([-0.9750, -5.5898, -7.0338, -3.8760, -1.3357], grad_fn=<SubBackward0>)\n",
      "tensor(-2.0731, grad_fn=<NegBackward0>)\n",
      "tensor([0.4178, 0.4099, 0.4119, 0.4103, 0.4236], grad_fn=<SqueezeBackward3>) tensor([-0.9753, -5.5890, -7.0339, -3.8755, -1.3348], grad_fn=<SubBackward0>)\n",
      "tensor(-2.0735, grad_fn=<NegBackward0>)\n",
      "tensor([0.4179, 0.4100, 0.4119, 0.4104, 0.4237], grad_fn=<SqueezeBackward3>) tensor([-0.9756, -5.5881, -7.0341, -3.8750, -1.3338], grad_fn=<SubBackward0>)\n",
      "tensor(-2.0738, grad_fn=<NegBackward0>)\n",
      "tensor([0.4180, 0.4100, 0.4120, 0.4104, 0.4238], grad_fn=<SqueezeBackward3>) tensor([-0.9759, -5.5873, -7.0342, -3.8745, -1.3328], grad_fn=<SubBackward0>)\n",
      "tensor(-2.0742, grad_fn=<NegBackward0>)\n",
      "tensor([0.4181, 0.4101, 0.4120, 0.4105, 0.4239], grad_fn=<SqueezeBackward3>) tensor([-0.9762, -5.5864, -7.0344, -3.8739, -1.3318], grad_fn=<SubBackward0>)\n",
      "tensor(-2.0745, grad_fn=<NegBackward0>)\n",
      "tensor([0.4181, 0.4102, 0.4121, 0.4106, 0.4240], grad_fn=<SqueezeBackward3>) tensor([-0.9764, -5.5856, -7.0345, -3.8734, -1.3307], grad_fn=<SubBackward0>)\n",
      "tensor(-2.0749, grad_fn=<NegBackward0>)\n",
      "tensor([0.4182, 0.4102, 0.4122, 0.4106, 0.4240], grad_fn=<SqueezeBackward3>) tensor([-0.9767, -5.5847, -7.0347, -3.8729, -1.3297], grad_fn=<SubBackward0>)\n",
      "tensor(-2.0753, grad_fn=<NegBackward0>)\n",
      "tensor([0.4183, 0.4103, 0.4122, 0.4107, 0.4241], grad_fn=<SqueezeBackward3>) tensor([-0.9770, -5.5838, -7.0348, -3.8723, -1.3287], grad_fn=<SubBackward0>)\n",
      "tensor(-2.0756, grad_fn=<NegBackward0>)\n",
      "tensor([0.4184, 0.4103, 0.4123, 0.4108, 0.4242], grad_fn=<SqueezeBackward3>) tensor([-0.9773, -5.5830, -7.0349, -3.8718, -1.3276], grad_fn=<SubBackward0>)\n",
      "tensor(-2.0760, grad_fn=<NegBackward0>)\n",
      "tensor([0.4185, 0.4104, 0.4123, 0.4108, 0.4243], grad_fn=<SqueezeBackward3>) tensor([-0.9776, -5.5821, -7.0351, -3.8712, -1.3266], grad_fn=<SubBackward0>)\n",
      "tensor(-2.0763, grad_fn=<NegBackward0>)\n",
      "tensor([0.4185, 0.4105, 0.4124, 0.4109, 0.4244], grad_fn=<SqueezeBackward3>) tensor([-0.9778, -5.5812, -7.0352, -3.8707, -1.3255], grad_fn=<SubBackward0>)\n",
      "tensor(-2.0767, grad_fn=<NegBackward0>)\n",
      "tensor([0.4186, 0.4105, 0.4125, 0.4109, 0.4245], grad_fn=<SqueezeBackward3>) tensor([-0.9781, -5.5804, -7.0353, -3.8702, -1.3244], grad_fn=<SubBackward0>)\n",
      "tensor(-2.0770, grad_fn=<NegBackward0>)\n",
      "tensor([0.4187, 0.4106, 0.4125, 0.4110, 0.4246], grad_fn=<SqueezeBackward3>) tensor([-0.9784, -5.5795, -7.0355, -3.8696, -1.3233], grad_fn=<SubBackward0>)\n",
      "tensor(-2.0774, grad_fn=<NegBackward0>)\n",
      "tensor([0.4188, 0.4106, 0.4126, 0.4111, 0.4246], grad_fn=<SqueezeBackward3>) tensor([-0.9787, -5.5786, -7.0356, -3.8691, -1.3222], grad_fn=<SubBackward0>)\n",
      "tensor(-2.0777, grad_fn=<NegBackward0>)\n",
      "tensor([0.4189, 0.4107, 0.4126, 0.4111, 0.4247], grad_fn=<SqueezeBackward3>) tensor([-0.9789, -5.5778, -7.0357, -3.8686, -1.3211], grad_fn=<SubBackward0>)\n",
      "tensor(-2.0781, grad_fn=<NegBackward0>)\n",
      "tensor([0.4189, 0.4108, 0.4127, 0.4112, 0.4248], grad_fn=<SqueezeBackward3>) tensor([-0.9792, -5.5769, -7.0358, -3.8680, -1.3200], grad_fn=<SubBackward0>)\n",
      "tensor(-2.0784, grad_fn=<NegBackward0>)\n",
      "tensor([0.4190, 0.4108, 0.4128, 0.4113, 0.4249], grad_fn=<SqueezeBackward3>) tensor([-0.9794, -5.5760, -7.0360, -3.8675, -1.3189], grad_fn=<SubBackward0>)\n",
      "tensor(-2.0788, grad_fn=<NegBackward0>)\n"
     ]
    },
    {
     "name": "stdout",
     "output_type": "stream",
     "text": [
      "tensor([0.4191, 0.4109, 0.4128, 0.4113, 0.4250], grad_fn=<SqueezeBackward3>) tensor([-0.9797, -5.5752, -7.0361, -3.8669, -1.3178], grad_fn=<SubBackward0>)\n",
      "tensor(-2.0791, grad_fn=<NegBackward0>)\n",
      "tensor([0.4192, 0.4110, 0.4129, 0.4114, 0.4251], grad_fn=<SqueezeBackward3>) tensor([-0.9799, -5.5743, -7.0362, -3.8664, -1.3167], grad_fn=<SubBackward0>)\n",
      "tensor(-2.0795, grad_fn=<NegBackward0>)\n",
      "tensor([0.4193, 0.4110, 0.4129, 0.4115, 0.4252], grad_fn=<SqueezeBackward3>) tensor([-0.9802, -5.5734, -7.0363, -3.8658, -1.3156], grad_fn=<SubBackward0>)\n",
      "tensor(-2.0798, grad_fn=<NegBackward0>)\n",
      "tensor([0.4193, 0.4111, 0.4130, 0.4115, 0.4252], grad_fn=<SqueezeBackward3>) tensor([-0.9804, -5.5726, -7.0364, -3.8653, -1.3144], grad_fn=<SubBackward0>)\n",
      "tensor(-2.0802, grad_fn=<NegBackward0>)\n",
      "tensor([0.4194, 0.4111, 0.4131, 0.4116, 0.4253], grad_fn=<SqueezeBackward3>) tensor([-0.9807, -5.5717, -7.0366, -3.8647, -1.3133], grad_fn=<SubBackward0>)\n",
      "tensor(-2.0805, grad_fn=<NegBackward0>)\n",
      "tensor([0.4195, 0.4112, 0.4131, 0.4117, 0.4254], grad_fn=<SqueezeBackward3>) tensor([-0.9809, -5.5708, -7.0367, -3.8642, -1.3122], grad_fn=<SubBackward0>)\n",
      "tensor(-2.0809, grad_fn=<NegBackward0>)\n",
      "tensor([0.4196, 0.4113, 0.4132, 0.4117, 0.4255], grad_fn=<SqueezeBackward3>) tensor([-0.9811, -5.5699, -7.0368, -3.8637, -1.3110], grad_fn=<SubBackward0>)\n",
      "tensor(-2.0812, grad_fn=<NegBackward0>)\n",
      "tensor([0.4197, 0.4113, 0.4132, 0.4118, 0.4256], grad_fn=<SqueezeBackward3>) tensor([-0.9814, -5.5691, -7.0369, -3.8631, -1.3099], grad_fn=<SubBackward0>)\n",
      "tensor(-2.0816, grad_fn=<NegBackward0>)\n",
      "tensor([0.4197, 0.4114, 0.4133, 0.4118, 0.4257], grad_fn=<SqueezeBackward3>) tensor([-0.9816, -5.5682, -7.0370, -3.8626, -1.3087], grad_fn=<SubBackward0>)\n",
      "tensor(-2.0819, grad_fn=<NegBackward0>)\n",
      "tensor([0.4198, 0.4115, 0.4134, 0.4119, 0.4258], grad_fn=<SqueezeBackward3>) tensor([-0.9818, -5.5673, -7.0371, -3.8620, -1.3076], grad_fn=<SubBackward0>)\n",
      "tensor(-2.0823, grad_fn=<NegBackward0>)\n",
      "tensor([0.4199, 0.4115, 0.4134, 0.4120, 0.4259], grad_fn=<SqueezeBackward3>) tensor([-0.9820, -5.5664, -7.0372, -3.8614, -1.3064], grad_fn=<SubBackward0>)\n",
      "tensor(-2.0827, grad_fn=<NegBackward0>)\n",
      "tensor([0.4200, 0.4116, 0.4135, 0.4120, 0.4259], grad_fn=<SqueezeBackward3>) tensor([-0.9823, -5.5655, -7.0373, -3.8609, -1.3053], grad_fn=<SubBackward0>)\n",
      "tensor(-2.0830, grad_fn=<NegBackward0>)\n",
      "tensor([0.4201, 0.4116, 0.4135, 0.4121, 0.4260], grad_fn=<SqueezeBackward3>) tensor([-0.9825, -5.5647, -7.0374, -3.8603, -1.3041], grad_fn=<SubBackward0>)\n",
      "tensor(-2.0834, grad_fn=<NegBackward0>)\n",
      "tensor([0.4201, 0.4117, 0.4136, 0.4122, 0.4261], grad_fn=<SqueezeBackward3>) tensor([-0.9827, -5.5638, -7.0375, -3.8598, -1.3030], grad_fn=<SubBackward0>)\n",
      "tensor(-2.0837, grad_fn=<NegBackward0>)\n",
      "tensor([0.4202, 0.4118, 0.4137, 0.4122, 0.4262], grad_fn=<SqueezeBackward3>) tensor([-0.9829, -5.5629, -7.0376, -3.8592, -1.3018], grad_fn=<SubBackward0>)\n",
      "tensor(-2.0841, grad_fn=<NegBackward0>)\n",
      "tensor([0.4203, 0.4118, 0.4137, 0.4123, 0.4263], grad_fn=<SqueezeBackward3>) tensor([-0.9831, -5.5620, -7.0377, -3.8587, -1.3006], grad_fn=<SubBackward0>)\n",
      "tensor(-2.0844, grad_fn=<NegBackward0>)\n",
      "tensor([0.4204, 0.4119, 0.4138, 0.4124, 0.4264], grad_fn=<SqueezeBackward3>) tensor([-0.9833, -5.5611, -7.0378, -3.8581, -1.2995], grad_fn=<SubBackward0>)\n",
      "tensor(-2.0848, grad_fn=<NegBackward0>)\n",
      "tensor([0.4205, 0.4119, 0.4138, 0.4124, 0.4265], grad_fn=<SqueezeBackward3>) tensor([-0.9835, -5.5602, -7.0378, -3.8576, -1.2983], grad_fn=<SubBackward0>)\n",
      "tensor(-2.0851, grad_fn=<NegBackward0>)\n",
      "tensor([0.4205, 0.4120, 0.4139, 0.4125, 0.4265], grad_fn=<SqueezeBackward3>) tensor([-0.9837, -5.5594, -7.0379, -3.8570, -1.2972], grad_fn=<SubBackward0>)\n",
      "tensor(-2.0855, grad_fn=<NegBackward0>)\n",
      "tensor([0.4206, 0.4121, 0.4140, 0.4126, 0.4266], grad_fn=<SqueezeBackward3>) tensor([-0.9839, -5.5585, -7.0380, -3.8564, -1.2960], grad_fn=<SubBackward0>)\n",
      "tensor(-2.0858, grad_fn=<NegBackward0>)\n",
      "tensor([0.4207, 0.4121, 0.4140, 0.4126, 0.4267], grad_fn=<SqueezeBackward3>) tensor([-0.9840, -5.5576, -7.0381, -3.8559, -1.2948], grad_fn=<SubBackward0>)\n",
      "tensor(-2.0862, grad_fn=<NegBackward0>)\n",
      "tensor([0.4208, 0.4122, 0.4141, 0.4127, 0.4268], grad_fn=<SqueezeBackward3>) tensor([-0.9842, -5.5567, -7.0382, -3.8553, -1.2937], grad_fn=<SubBackward0>)\n",
      "tensor(-2.0865, grad_fn=<NegBackward0>)\n",
      "tensor([0.4209, 0.4123, 0.4141, 0.4127, 0.4269], grad_fn=<SqueezeBackward3>) tensor([-0.9844, -5.5558, -7.0382, -3.8548, -1.2925], grad_fn=<SubBackward0>)\n",
      "tensor(-2.0869, grad_fn=<NegBackward0>)\n",
      "tensor([0.4209, 0.4123, 0.4142, 0.4128, 0.4270], grad_fn=<SqueezeBackward3>) tensor([-0.9846, -5.5549, -7.0383, -3.8542, -1.2913], grad_fn=<SubBackward0>)\n",
      "tensor(-2.0873, grad_fn=<NegBackward0>)\n",
      "tensor([0.4210, 0.4124, 0.4143, 0.4129, 0.4271], grad_fn=<SqueezeBackward3>) tensor([-0.9847, -5.5540, -7.0384, -3.8536, -1.2902], grad_fn=<SubBackward0>)\n",
      "tensor(-2.0876, grad_fn=<NegBackward0>)\n",
      "tensor([0.4211, 0.4124, 0.4143, 0.4129, 0.4272], grad_fn=<SqueezeBackward3>) tensor([-0.9849, -5.5531, -7.0385, -3.8531, -1.2890], grad_fn=<SubBackward0>)\n",
      "tensor(-2.0880, grad_fn=<NegBackward0>)\n",
      "tensor([0.4212, 0.4125, 0.4144, 0.4130, 0.4272], grad_fn=<SqueezeBackward3>) tensor([-0.9851, -5.5522, -7.0385, -3.8525, -1.2878], grad_fn=<SubBackward0>)\n",
      "tensor(-2.0883, grad_fn=<NegBackward0>)\n",
      "tensor([0.4213, 0.4126, 0.4144, 0.4131, 0.4273], grad_fn=<SqueezeBackward3>) tensor([-0.9852, -5.5513, -7.0386, -3.8519, -1.2866], grad_fn=<SubBackward0>)\n",
      "tensor(-2.0887, grad_fn=<NegBackward0>)\n",
      "tensor([0.4213, 0.4126, 0.4145, 0.4131, 0.4274], grad_fn=<SqueezeBackward3>) tensor([-0.9854, -5.5504, -7.0387, -3.8514, -1.2855], grad_fn=<SubBackward0>)\n",
      "tensor(-2.0890, grad_fn=<NegBackward0>)\n",
      "tensor([0.4214, 0.4127, 0.4146, 0.4132, 0.4275], grad_fn=<SqueezeBackward3>) tensor([-0.9855, -5.5496, -7.0387, -3.8508, -1.2843], grad_fn=<SubBackward0>)\n",
      "tensor(-2.0894, grad_fn=<NegBackward0>)\n",
      "tensor([0.4215, 0.4128, 0.4146, 0.4133, 0.4276], grad_fn=<SqueezeBackward3>) tensor([-0.9857, -5.5487, -7.0388, -3.8502, -1.2831], grad_fn=<SubBackward0>)\n",
      "tensor(-2.0897, grad_fn=<NegBackward0>)\n",
      "tensor([0.4216, 0.4128, 0.4147, 0.4133, 0.4277], grad_fn=<SqueezeBackward3>) tensor([-0.9858, -5.5478, -7.0388, -3.8497, -1.2820], grad_fn=<SubBackward0>)\n",
      "tensor(-2.0901, grad_fn=<NegBackward0>)\n",
      "tensor([0.4217, 0.4129, 0.4147, 0.4134, 0.4278], grad_fn=<SqueezeBackward3>) tensor([-0.9859, -5.5469, -7.0389, -3.8491, -1.2808], grad_fn=<SubBackward0>)\n",
      "tensor(-2.0904, grad_fn=<NegBackward0>)\n",
      "tensor([0.4217, 0.4129, 0.4148, 0.4134, 0.4279], grad_fn=<SqueezeBackward3>) tensor([-0.9861, -5.5460, -7.0389, -3.8485, -1.2796], grad_fn=<SubBackward0>)\n",
      "tensor(-2.0908, grad_fn=<NegBackward0>)\n",
      "tensor([0.4218, 0.4130, 0.4149, 0.4135, 0.4280], grad_fn=<SqueezeBackward3>) tensor([-0.9862, -5.5451, -7.0390, -3.8479, -1.2784], grad_fn=<SubBackward0>)\n",
      "tensor(-2.0911, grad_fn=<NegBackward0>)\n",
      "tensor([0.4219, 0.4131, 0.4149, 0.4136, 0.4280], grad_fn=<SqueezeBackward3>) tensor([-0.9863, -5.5442, -7.0390, -3.8474, -1.2773], grad_fn=<SubBackward0>)\n",
      "tensor(-2.0915, grad_fn=<NegBackward0>)\n",
      "tensor([0.4220, 0.4131, 0.4150, 0.4136, 0.4281], grad_fn=<SqueezeBackward3>) tensor([-0.9864, -5.5432, -7.0391, -3.8468, -1.2761], grad_fn=<SubBackward0>)\n",
      "tensor(-2.0919, grad_fn=<NegBackward0>)\n",
      "tensor([0.4221, 0.4132, 0.4150, 0.4137, 0.4282], grad_fn=<SqueezeBackward3>) tensor([-0.9865, -5.5423, -7.0391, -3.8462, -1.2749], grad_fn=<SubBackward0>)\n",
      "tensor(-2.0922, grad_fn=<NegBackward0>)\n",
      "tensor([0.4221, 0.4132, 0.4151, 0.4138, 0.4283], grad_fn=<SqueezeBackward3>) tensor([-0.9866, -5.5414, -7.0392, -3.8456, -1.2738], grad_fn=<SubBackward0>)\n",
      "tensor(-2.0926, grad_fn=<NegBackward0>)\n",
      "tensor([0.4222, 0.4133, 0.4152, 0.4138, 0.4284], grad_fn=<SqueezeBackward3>) tensor([-0.9867, -5.5405, -7.0392, -3.8451, -1.2726], grad_fn=<SubBackward0>)\n",
      "tensor(-2.0929, grad_fn=<NegBackward0>)\n",
      "tensor([0.4223, 0.4134, 0.4152, 0.4139, 0.4285], grad_fn=<SqueezeBackward3>) tensor([-0.9868, -5.5396, -7.0392, -3.8445, -1.2714], grad_fn=<SubBackward0>)\n",
      "tensor(-2.0933, grad_fn=<NegBackward0>)\n",
      "tensor([0.4224, 0.4134, 0.4153, 0.4140, 0.4286], grad_fn=<SqueezeBackward3>) tensor([-0.9869, -5.5387, -7.0393, -3.8439, -1.2703], grad_fn=<SubBackward0>)\n",
      "tensor(-2.0936, grad_fn=<NegBackward0>)\n",
      "tensor([0.4225, 0.4135, 0.4153, 0.4140, 0.4287], grad_fn=<SqueezeBackward3>) tensor([-0.9870, -5.5378, -7.0393, -3.8433, -1.2691], grad_fn=<SubBackward0>)\n",
      "tensor(-2.0940, grad_fn=<NegBackward0>)\n",
      "tensor([0.4225, 0.4136, 0.4154, 0.4141, 0.4287], grad_fn=<SqueezeBackward3>) tensor([-0.9871, -5.5369, -7.0393, -3.8427, -1.2679], grad_fn=<SubBackward0>)\n",
      "tensor(-2.0943, grad_fn=<NegBackward0>)\n",
      "tensor([0.4226, 0.4136, 0.4155, 0.4142, 0.4288], grad_fn=<SqueezeBackward3>) tensor([-0.9872, -5.5360, -7.0394, -3.8422, -1.2668], grad_fn=<SubBackward0>)\n",
      "tensor(-2.0947, grad_fn=<NegBackward0>)\n",
      "tensor([0.4227, 0.4137, 0.4155, 0.4142, 0.4289], grad_fn=<SqueezeBackward3>) tensor([-0.9873, -5.5351, -7.0394, -3.8416, -1.2656], grad_fn=<SubBackward0>)\n",
      "tensor(-2.0950, grad_fn=<NegBackward0>)\n",
      "tensor([0.4228, 0.4137, 0.4156, 0.4143, 0.4290], grad_fn=<SqueezeBackward3>) tensor([-0.9873, -5.5342, -7.0394, -3.8410, -1.2644], grad_fn=<SubBackward0>)\n",
      "tensor(-2.0954, grad_fn=<NegBackward0>)\n",
      "tensor([0.4229, 0.4138, 0.4156, 0.4143, 0.4291], grad_fn=<SqueezeBackward3>) tensor([-0.9874, -5.5332, -7.0394, -3.8404, -1.2633], grad_fn=<SubBackward0>)\n",
      "tensor(-2.0958, grad_fn=<NegBackward0>)\n",
      "tensor([0.4229, 0.4139, 0.4157, 0.4144, 0.4292], grad_fn=<SqueezeBackward3>) tensor([-0.9875, -5.5323, -7.0395, -3.8398, -1.2621], grad_fn=<SubBackward0>)\n",
      "tensor(-2.0961, grad_fn=<NegBackward0>)\n",
      "tensor([0.4230, 0.4139, 0.4158, 0.4145, 0.4293], grad_fn=<SqueezeBackward3>) tensor([-0.9875, -5.5314, -7.0395, -3.8392, -1.2609], grad_fn=<SubBackward0>)\n",
      "tensor(-2.0965, grad_fn=<NegBackward0>)\n",
      "tensor([0.4231, 0.4140, 0.4158, 0.4145, 0.4294], grad_fn=<SqueezeBackward3>) tensor([-0.9876, -5.5305, -7.0395, -3.8386, -1.2598], grad_fn=<SubBackward0>)\n",
      "tensor(-2.0968, grad_fn=<NegBackward0>)\n",
      "tensor([0.4232, 0.4141, 0.4159, 0.4146, 0.4295], grad_fn=<SqueezeBackward3>) tensor([-0.9876, -5.5296, -7.0395, -3.8380, -1.2586], grad_fn=<SubBackward0>)\n",
      "tensor(-2.0972, grad_fn=<NegBackward0>)\n",
      "tensor([0.4233, 0.4141, 0.4159, 0.4147, 0.4295], grad_fn=<SqueezeBackward3>) tensor([-0.9876, -5.5287, -7.0395, -3.8375, -1.2574], grad_fn=<SubBackward0>)\n",
      "tensor(-2.0975, grad_fn=<NegBackward0>)\n",
      "tensor([0.4233, 0.4142, 0.4160, 0.4147, 0.4296], grad_fn=<SqueezeBackward3>) tensor([-0.9877, -5.5277, -7.0395, -3.8369, -1.2563], grad_fn=<SubBackward0>)\n",
      "tensor(-2.0979, grad_fn=<NegBackward0>)\n",
      "tensor([0.4234, 0.4142, 0.4161, 0.4148, 0.4297], grad_fn=<SqueezeBackward3>) tensor([-0.9877, -5.5268, -7.0395, -3.8363, -1.2551], grad_fn=<SubBackward0>)\n",
      "tensor(-2.0982, grad_fn=<NegBackward0>)\n",
      "tensor([0.4235, 0.4143, 0.4161, 0.4149, 0.4298], grad_fn=<SqueezeBackward3>) tensor([-0.9877, -5.5259, -7.0395, -3.8357, -1.2539], grad_fn=<SubBackward0>)\n",
      "tensor(-2.0986, grad_fn=<NegBackward0>)\n",
      "tensor([0.4236, 0.4144, 0.4162, 0.4149, 0.4299], grad_fn=<SqueezeBackward3>) tensor([-0.9878, -5.5250, -7.0395, -3.8351, -1.2528], grad_fn=<SubBackward0>)\n",
      "tensor(-2.0990, grad_fn=<NegBackward0>)\n",
      "tensor([0.4237, 0.4144, 0.4162, 0.4150, 0.4300], grad_fn=<SqueezeBackward3>) tensor([-0.9878, -5.5240, -7.0395, -3.8345, -1.2516], grad_fn=<SubBackward0>)\n",
      "tensor(-2.0993, grad_fn=<NegBackward0>)\n",
      "tensor([0.4238, 0.4145, 0.4163, 0.4151, 0.4301], grad_fn=<SqueezeBackward3>) tensor([-0.9878, -5.5231, -7.0395, -3.8339, -1.2505], grad_fn=<SubBackward0>)\n",
      "tensor(-2.0997, grad_fn=<NegBackward0>)\n",
      "tensor([0.4238, 0.4145, 0.4164, 0.4151, 0.4302], grad_fn=<SqueezeBackward3>) tensor([-0.9878, -5.5222, -7.0395, -3.8333, -1.2493], grad_fn=<SubBackward0>)\n",
      "tensor(-2.1000, grad_fn=<NegBackward0>)\n",
      "tensor([0.4239, 0.4146, 0.4164, 0.4152, 0.4303], grad_fn=<SqueezeBackward3>) tensor([-0.9878, -5.5213, -7.0395, -3.8327, -1.2481], grad_fn=<SubBackward0>)\n",
      "tensor(-2.1004, grad_fn=<NegBackward0>)\n",
      "tensor([0.4240, 0.4147, 0.4165, 0.4152, 0.4303], grad_fn=<SqueezeBackward3>) tensor([-0.9878, -5.5203, -7.0395, -3.8321, -1.2470], grad_fn=<SubBackward0>)\n",
      "tensor(-2.1007, grad_fn=<NegBackward0>)\n",
      "tensor([0.4241, 0.4147, 0.4165, 0.4153, 0.4304], grad_fn=<SqueezeBackward3>) tensor([-0.9877, -5.5194, -7.0395, -3.8315, -1.2458], grad_fn=<SubBackward0>)\n",
      "tensor(-2.1011, grad_fn=<NegBackward0>)\n",
      "tensor([0.4242, 0.4148, 0.4166, 0.4154, 0.4305], grad_fn=<SqueezeBackward3>) tensor([-0.9877, -5.5185, -7.0395, -3.8309, -1.2447], grad_fn=<SubBackward0>)\n",
      "tensor(-2.1015, grad_fn=<NegBackward0>)\n",
      "tensor([0.4242, 0.4149, 0.4167, 0.4154, 0.4306], grad_fn=<SqueezeBackward3>) tensor([-0.9877, -5.5175, -7.0394, -3.8303, -1.2435], grad_fn=<SubBackward0>)\n",
      "tensor(-2.1018, grad_fn=<NegBackward0>)\n",
      "tensor([0.4243, 0.4149, 0.4167, 0.4155, 0.4307], grad_fn=<SqueezeBackward3>) tensor([-0.9877, -5.5166, -7.0394, -3.8297, -1.2424], grad_fn=<SubBackward0>)\n",
      "tensor(-2.1022, grad_fn=<NegBackward0>)\n",
      "tensor([0.4244, 0.4150, 0.4168, 0.4156, 0.4308], grad_fn=<SqueezeBackward3>) tensor([-0.9876, -5.5157, -7.0394, -3.8291, -1.2412], grad_fn=<SubBackward0>)\n",
      "tensor(-2.1025, grad_fn=<NegBackward0>)\n",
      "tensor([0.4245, 0.4150, 0.4168, 0.4156, 0.4309], grad_fn=<SqueezeBackward3>) tensor([-0.9876, -5.5147, -7.0394, -3.8285, -1.2401], grad_fn=<SubBackward0>)\n",
      "tensor(-2.1029, grad_fn=<NegBackward0>)\n",
      "tensor([0.4246, 0.4151, 0.4169, 0.4157, 0.4310], grad_fn=<SqueezeBackward3>) tensor([-0.9875, -5.5138, -7.0393, -3.8279, -1.2389], grad_fn=<SubBackward0>)\n",
      "tensor(-2.1032, grad_fn=<NegBackward0>)\n",
      "tensor([0.4246, 0.4152, 0.4170, 0.4158, 0.4311], grad_fn=<SqueezeBackward3>) tensor([-0.9875, -5.5129, -7.0393, -3.8273, -1.2378], grad_fn=<SubBackward0>)\n",
      "tensor(-2.1036, grad_fn=<NegBackward0>)\n",
      "tensor([0.4247, 0.4152, 0.4170, 0.4158, 0.4312], grad_fn=<SqueezeBackward3>) tensor([-0.9874, -5.5119, -7.0393, -3.8266, -1.2366], grad_fn=<SubBackward0>)\n",
      "tensor(-2.1039, grad_fn=<NegBackward0>)\n",
      "tensor([0.4248, 0.4153, 0.4171, 0.4159, 0.4312], grad_fn=<SqueezeBackward3>) tensor([-0.9874, -5.5110, -7.0392, -3.8260, -1.2355], grad_fn=<SubBackward0>)\n",
      "tensor(-2.1043, grad_fn=<NegBackward0>)\n",
      "tensor([0.4249, 0.4154, 0.4171, 0.4160, 0.4313], grad_fn=<SqueezeBackward3>) tensor([-0.9873, -5.5100, -7.0392, -3.8254, -1.2343], grad_fn=<SubBackward0>)\n",
      "tensor(-2.1047, grad_fn=<NegBackward0>)\n",
      "tensor([0.4250, 0.4154, 0.4172, 0.4160, 0.4314], grad_fn=<SqueezeBackward3>) tensor([-0.9872, -5.5091, -7.0391, -3.8248, -1.2332], grad_fn=<SubBackward0>)\n",
      "tensor(-2.1050, grad_fn=<NegBackward0>)\n",
      "tensor([0.4250, 0.4155, 0.4173, 0.4161, 0.4315], grad_fn=<SqueezeBackward3>) tensor([-0.9871, -5.5082, -7.0391, -3.8242, -1.2320], grad_fn=<SubBackward0>)\n",
      "tensor(-2.1054, grad_fn=<NegBackward0>)\n",
      "tensor([0.4251, 0.4155, 0.4173, 0.4161, 0.4316], grad_fn=<SqueezeBackward3>) tensor([-0.9870, -5.5072, -7.0391, -3.8236, -1.2309], grad_fn=<SubBackward0>)\n",
      "tensor(-2.1057, grad_fn=<NegBackward0>)\n",
      "tensor([0.4252, 0.4156, 0.4174, 0.4162, 0.4317], grad_fn=<SqueezeBackward3>) tensor([-0.9869, -5.5063, -7.0390, -3.8230, -1.2297], grad_fn=<SubBackward0>)\n",
      "tensor(-2.1061, grad_fn=<NegBackward0>)\n",
      "tensor([0.4253, 0.4157, 0.4174, 0.4163, 0.4318], grad_fn=<SqueezeBackward3>) tensor([-0.9868, -5.5053, -7.0390, -3.8224, -1.2286], grad_fn=<SubBackward0>)\n",
      "tensor(-2.1064, grad_fn=<NegBackward0>)\n",
      "tensor([0.4254, 0.4157, 0.4175, 0.4163, 0.4319], grad_fn=<SqueezeBackward3>) tensor([-0.9867, -5.5044, -7.0389, -3.8217, -1.2274], grad_fn=<SubBackward0>)\n",
      "tensor(-2.1068, grad_fn=<NegBackward0>)\n",
      "tensor([0.4254, 0.4158, 0.4176, 0.4164, 0.4320], grad_fn=<SqueezeBackward3>) tensor([-0.9866, -5.5034, -7.0388, -3.8211, -1.2263], grad_fn=<SubBackward0>)\n",
      "tensor(-2.1072, grad_fn=<NegBackward0>)\n",
      "tensor([0.4255, 0.4158, 0.4176, 0.4165, 0.4321], grad_fn=<SqueezeBackward3>) tensor([-0.9865, -5.5025, -7.0388, -3.8205, -1.2251], grad_fn=<SubBackward0>)\n",
      "tensor(-2.1075, grad_fn=<NegBackward0>)\n",
      "tensor([0.4256, 0.4159, 0.4177, 0.4165, 0.4321], grad_fn=<SqueezeBackward3>) tensor([-0.9864, -5.5015, -7.0387, -3.8199, -1.2240], grad_fn=<SubBackward0>)\n",
      "tensor(-2.1079, grad_fn=<NegBackward0>)\n",
      "tensor([0.4257, 0.4160, 0.4177, 0.4166, 0.4322], grad_fn=<SqueezeBackward3>) tensor([-0.9862, -5.5006, -7.0386, -3.8192, -1.2229], grad_fn=<SubBackward0>)\n",
      "tensor(-2.1082, grad_fn=<NegBackward0>)\n",
      "tensor([0.4258, 0.4160, 0.4178, 0.4167, 0.4323], grad_fn=<SqueezeBackward3>) tensor([-0.9861, -5.4996, -7.0386, -3.8186, -1.2217], grad_fn=<SubBackward0>)\n",
      "tensor(-2.1086, grad_fn=<NegBackward0>)\n",
      "tensor([0.4259, 0.4161, 0.4179, 0.4167, 0.4324], grad_fn=<SqueezeBackward3>) tensor([-0.9859, -5.4987, -7.0385, -3.8180, -1.2206], grad_fn=<SubBackward0>)\n",
      "tensor(-2.1090, grad_fn=<NegBackward0>)\n",
      "tensor([0.4259, 0.4162, 0.4179, 0.4168, 0.4325], grad_fn=<SqueezeBackward3>) tensor([-0.9858, -5.4977, -7.0384, -3.8174, -1.2194], grad_fn=<SubBackward0>)\n",
      "tensor(-2.1093, grad_fn=<NegBackward0>)\n",
      "tensor([0.4260, 0.4162, 0.4180, 0.4168, 0.4326], grad_fn=<SqueezeBackward3>) tensor([-0.9856, -5.4968, -7.0384, -3.8167, -1.2183], grad_fn=<SubBackward0>)\n",
      "tensor(-2.1097, grad_fn=<NegBackward0>)\n",
      "tensor([0.4261, 0.4163, 0.4180, 0.4169, 0.4327], grad_fn=<SqueezeBackward3>) tensor([-0.9855, -5.4958, -7.0383, -3.8161, -1.2172], grad_fn=<SubBackward0>)\n",
      "tensor(-2.1100, grad_fn=<NegBackward0>)\n",
      "tensor([0.4262, 0.4163, 0.4181, 0.4170, 0.4328], grad_fn=<SqueezeBackward3>) tensor([-0.9853, -5.4948, -7.0382, -3.8155, -1.2160], grad_fn=<SubBackward0>)\n",
      "tensor(-2.1104, grad_fn=<NegBackward0>)\n",
      "tensor([0.4263, 0.4164, 0.4182, 0.4170, 0.4329], grad_fn=<SqueezeBackward3>) tensor([-0.9851, -5.4939, -7.0381, -3.8149, -1.2149], grad_fn=<SubBackward0>)\n",
      "tensor(-2.1107, grad_fn=<NegBackward0>)\n",
      "tensor([0.4263, 0.4165, 0.4182, 0.4171, 0.4330], grad_fn=<SqueezeBackward3>) tensor([-0.9849, -5.4929, -7.0380, -3.8142, -1.2138], grad_fn=<SubBackward0>)\n",
      "tensor(-2.1111, grad_fn=<NegBackward0>)\n",
      "tensor([0.4264, 0.4165, 0.4183, 0.4172, 0.4331], grad_fn=<SqueezeBackward3>) tensor([-0.9847, -5.4920, -7.0379, -3.8136, -1.2126], grad_fn=<SubBackward0>)\n",
      "tensor(-2.1115, grad_fn=<NegBackward0>)\n",
      "tensor([0.4265, 0.4166, 0.4183, 0.4172, 0.4331], grad_fn=<SqueezeBackward3>) tensor([-0.9845, -5.4910, -7.0378, -3.8130, -1.2115], grad_fn=<SubBackward0>)\n",
      "tensor(-2.1118, grad_fn=<NegBackward0>)\n",
      "tensor([0.4266, 0.4167, 0.4184, 0.4173, 0.4332], grad_fn=<SqueezeBackward3>) tensor([-0.9843, -5.4900, -7.0377, -3.8123, -1.2104], grad_fn=<SubBackward0>)\n",
      "tensor(-2.1122, grad_fn=<NegBackward0>)\n",
      "tensor([0.4267, 0.4167, 0.4185, 0.4174, 0.4333], grad_fn=<SqueezeBackward3>) tensor([-0.9841, -5.4891, -7.0376, -3.8117, -1.2092], grad_fn=<SubBackward0>)\n",
      "tensor(-2.1125, grad_fn=<NegBackward0>)\n",
      "tensor([0.4267, 0.4168, 0.4185, 0.4174, 0.4334], grad_fn=<SqueezeBackward3>) tensor([-0.9839, -5.4881, -7.0375, -3.8111, -1.2081], grad_fn=<SubBackward0>)\n",
      "tensor(-2.1129, grad_fn=<NegBackward0>)\n",
      "tensor([0.4268, 0.4168, 0.4186, 0.4175, 0.4335], grad_fn=<SqueezeBackward3>) tensor([-0.9836, -5.4871, -7.0374, -3.8104, -1.2070], grad_fn=<SubBackward0>)\n",
      "tensor(-2.1133, grad_fn=<NegBackward0>)\n",
      "tensor([0.4269, 0.4169, 0.4186, 0.4176, 0.4336], grad_fn=<SqueezeBackward3>) tensor([-0.9834, -5.4862, -7.0373, -3.8098, -1.2059], grad_fn=<SubBackward0>)\n",
      "tensor(-2.1136, grad_fn=<NegBackward0>)\n",
      "tensor([0.4270, 0.4170, 0.4187, 0.4176, 0.4337], grad_fn=<SqueezeBackward3>) tensor([-0.9832, -5.4852, -7.0372, -3.8091, -1.2047], grad_fn=<SubBackward0>)\n",
      "tensor(-2.1140, grad_fn=<NegBackward0>)\n",
      "tensor([0.4271, 0.4170, 0.4188, 0.4177, 0.4338], grad_fn=<SqueezeBackward3>) tensor([-0.9829, -5.4842, -7.0371, -3.8085, -1.2036], grad_fn=<SubBackward0>)\n",
      "tensor(-2.1143, grad_fn=<NegBackward0>)\n",
      "tensor([0.4271, 0.4171, 0.4188, 0.4177, 0.4339], grad_fn=<SqueezeBackward3>) tensor([-0.9827, -5.4832, -7.0370, -3.8078, -1.2025], grad_fn=<SubBackward0>)\n",
      "tensor(-2.1147, grad_fn=<NegBackward0>)\n",
      "tensor([0.4272, 0.4171, 0.4189, 0.4178, 0.4340], grad_fn=<SqueezeBackward3>) tensor([-0.9824, -5.4823, -7.0369, -3.8072, -1.2014], grad_fn=<SubBackward0>)\n",
      "tensor(-2.1150, grad_fn=<NegBackward0>)\n",
      "tensor([0.4273, 0.4172, 0.4189, 0.4179, 0.4341], grad_fn=<SqueezeBackward3>) tensor([-0.9821, -5.4813, -7.0368, -3.8066, -1.2002], grad_fn=<SubBackward0>)\n"
     ]
    },
    {
     "name": "stdout",
     "output_type": "stream",
     "text": [
      "tensor(-2.1154, grad_fn=<NegBackward0>)\n",
      "tensor([0.4274, 0.4173, 0.4190, 0.4179, 0.4342], grad_fn=<SqueezeBackward3>) tensor([-0.9819, -5.4803, -7.0366, -3.8059, -1.1991], grad_fn=<SubBackward0>)\n",
      "tensor(-2.1158, grad_fn=<NegBackward0>)\n",
      "tensor([0.4275, 0.4173, 0.4191, 0.4180, 0.4342], grad_fn=<SqueezeBackward3>) tensor([-0.9816, -5.4793, -7.0365, -3.8053, -1.1980], grad_fn=<SubBackward0>)\n",
      "tensor(-2.1161, grad_fn=<NegBackward0>)\n",
      "tensor([0.4276, 0.4174, 0.4191, 0.4181, 0.4343], grad_fn=<SqueezeBackward3>) tensor([-0.9813, -5.4783, -7.0364, -3.8046, -1.1969], grad_fn=<SubBackward0>)\n",
      "tensor(-2.1165, grad_fn=<NegBackward0>)\n",
      "tensor([0.4276, 0.4175, 0.4192, 0.4181, 0.4344], grad_fn=<SqueezeBackward3>) tensor([-0.9810, -5.4774, -7.0363, -3.8040, -1.1958], grad_fn=<SubBackward0>)\n",
      "tensor(-2.1168, grad_fn=<NegBackward0>)\n",
      "tensor([0.4277, 0.4175, 0.4192, 0.4182, 0.4345], grad_fn=<SqueezeBackward3>) tensor([-0.9807, -5.4764, -7.0361, -3.8033, -1.1946], grad_fn=<SubBackward0>)\n",
      "tensor(-2.1172, grad_fn=<NegBackward0>)\n",
      "tensor([0.4278, 0.4176, 0.4193, 0.4183, 0.4346], grad_fn=<SqueezeBackward3>) tensor([-0.9804, -5.4754, -7.0360, -3.8027, -1.1935], grad_fn=<SubBackward0>)\n",
      "tensor(-2.1176, grad_fn=<NegBackward0>)\n",
      "tensor([0.4279, 0.4176, 0.4194, 0.4183, 0.4347], grad_fn=<SqueezeBackward3>) tensor([-0.9801, -5.4744, -7.0358, -3.8020, -1.1924], grad_fn=<SubBackward0>)\n",
      "tensor(-2.1179, grad_fn=<NegBackward0>)\n",
      "tensor([0.4280, 0.4177, 0.4194, 0.4184, 0.4348], grad_fn=<SqueezeBackward3>) tensor([-0.9797, -5.4734, -7.0357, -3.8013, -1.1913], grad_fn=<SubBackward0>)\n",
      "tensor(-2.1183, grad_fn=<NegBackward0>)\n",
      "tensor([0.4280, 0.4178, 0.4195, 0.4185, 0.4349], grad_fn=<SqueezeBackward3>) tensor([-0.9794, -5.4724, -7.0355, -3.8007, -1.1902], grad_fn=<SubBackward0>)\n",
      "tensor(-2.1186, grad_fn=<NegBackward0>)\n",
      "tensor([0.4281, 0.4178, 0.4195, 0.4185, 0.4350], grad_fn=<SqueezeBackward3>) tensor([-0.9791, -5.4715, -7.0354, -3.8000, -1.1891], grad_fn=<SubBackward0>)\n",
      "tensor(-2.1190, grad_fn=<NegBackward0>)\n",
      "tensor([0.4282, 0.4179, 0.4196, 0.4186, 0.4351], grad_fn=<SqueezeBackward3>) tensor([-0.9787, -5.4705, -7.0352, -3.7994, -1.1879], grad_fn=<SubBackward0>)\n",
      "tensor(-2.1194, grad_fn=<NegBackward0>)\n",
      "tensor([0.4283, 0.4180, 0.4197, 0.4186, 0.4352], grad_fn=<SqueezeBackward3>) tensor([-0.9784, -5.4695, -7.0351, -3.7987, -1.1868], grad_fn=<SubBackward0>)\n",
      "tensor(-2.1197, grad_fn=<NegBackward0>)\n",
      "tensor([0.4284, 0.4180, 0.4197, 0.4187, 0.4353], grad_fn=<SqueezeBackward3>) tensor([-0.9780, -5.4685, -7.0349, -3.7981, -1.1857], grad_fn=<SubBackward0>)\n",
      "tensor(-2.1201, grad_fn=<NegBackward0>)\n",
      "tensor([0.4285, 0.4181, 0.4198, 0.4188, 0.4354], grad_fn=<SqueezeBackward3>) tensor([-0.9776, -5.4675, -7.0348, -3.7974, -1.1846], grad_fn=<SubBackward0>)\n",
      "tensor(-2.1204, grad_fn=<NegBackward0>)\n",
      "tensor([0.4285, 0.4181, 0.4198, 0.4188, 0.4354], grad_fn=<SqueezeBackward3>) tensor([-0.9773, -5.4665, -7.0346, -3.7967, -1.1835], grad_fn=<SubBackward0>)\n",
      "tensor(-2.1208, grad_fn=<NegBackward0>)\n",
      "tensor([0.4286, 0.4182, 0.4199, 0.4189, 0.4355], grad_fn=<SqueezeBackward3>) tensor([-0.9769, -5.4655, -7.0344, -3.7961, -1.1824], grad_fn=<SubBackward0>)\n",
      "tensor(-2.1212, grad_fn=<NegBackward0>)\n",
      "tensor([0.4287, 0.4183, 0.4200, 0.4190, 0.4356], grad_fn=<SqueezeBackward3>) tensor([-0.9765, -5.4645, -7.0343, -3.7954, -1.1813], grad_fn=<SubBackward0>)\n",
      "tensor(-2.1215, grad_fn=<NegBackward0>)\n",
      "tensor([0.4288, 0.4183, 0.4200, 0.4190, 0.4357], grad_fn=<SqueezeBackward3>) tensor([-0.9761, -5.4635, -7.0341, -3.7947, -1.1802], grad_fn=<SubBackward0>)\n",
      "tensor(-2.1219, grad_fn=<NegBackward0>)\n",
      "tensor([0.4289, 0.4184, 0.4201, 0.4191, 0.4358], grad_fn=<SqueezeBackward3>) tensor([-0.9757, -5.4625, -7.0339, -3.7941, -1.1791], grad_fn=<SubBackward0>)\n",
      "tensor(-2.1223, grad_fn=<NegBackward0>)\n",
      "tensor([0.4289, 0.4184, 0.4201, 0.4192, 0.4359], grad_fn=<SqueezeBackward3>) tensor([-0.9753, -5.4615, -7.0337, -3.7934, -1.1780], grad_fn=<SubBackward0>)\n",
      "tensor(-2.1226, grad_fn=<NegBackward0>)\n",
      "tensor([0.4290, 0.4185, 0.4202, 0.4192, 0.4360], grad_fn=<SqueezeBackward3>) tensor([-0.9749, -5.4605, -7.0335, -3.7927, -1.1769], grad_fn=<SubBackward0>)\n",
      "tensor(-2.1230, grad_fn=<NegBackward0>)\n",
      "tensor([0.4291, 0.4186, 0.4203, 0.4193, 0.4361], grad_fn=<SqueezeBackward3>) tensor([-0.9744, -5.4595, -7.0334, -3.7920, -1.1758], grad_fn=<SubBackward0>)\n",
      "tensor(-2.1233, grad_fn=<NegBackward0>)\n",
      "tensor([0.4292, 0.4186, 0.4203, 0.4194, 0.4362], grad_fn=<SqueezeBackward3>) tensor([-0.9740, -5.4585, -7.0332, -3.7914, -1.1747], grad_fn=<SubBackward0>)\n",
      "tensor(-2.1237, grad_fn=<NegBackward0>)\n",
      "tensor([0.4293, 0.4187, 0.4204, 0.4194, 0.4363], grad_fn=<SqueezeBackward3>) tensor([-0.9736, -5.4575, -7.0330, -3.7907, -1.1736], grad_fn=<SubBackward0>)\n",
      "tensor(-2.1241, grad_fn=<NegBackward0>)\n",
      "tensor([0.4294, 0.4188, 0.4204, 0.4195, 0.4364], grad_fn=<SqueezeBackward3>) tensor([-0.9731, -5.4565, -7.0328, -3.7900, -1.1725], grad_fn=<SubBackward0>)\n",
      "tensor(-2.1244, grad_fn=<NegBackward0>)\n",
      "tensor([0.4294, 0.4188, 0.4205, 0.4195, 0.4365], grad_fn=<SqueezeBackward3>) tensor([-0.9727, -5.4555, -7.0326, -3.7893, -1.1714], grad_fn=<SubBackward0>)\n",
      "tensor(-2.1248, grad_fn=<NegBackward0>)\n",
      "tensor([0.4295, 0.4189, 0.4206, 0.4196, 0.4366], grad_fn=<SqueezeBackward3>) tensor([-0.9722, -5.4545, -7.0324, -3.7886, -1.1703], grad_fn=<SubBackward0>)\n",
      "tensor(-2.1251, grad_fn=<NegBackward0>)\n",
      "tensor([0.4296, 0.4189, 0.4206, 0.4197, 0.4367], grad_fn=<SqueezeBackward3>) tensor([-0.9717, -5.4534, -7.0322, -3.7880, -1.1692], grad_fn=<SubBackward0>)\n",
      "tensor(-2.1255, grad_fn=<NegBackward0>)\n",
      "tensor([0.4297, 0.4190, 0.4207, 0.4197, 0.4367], grad_fn=<SqueezeBackward3>) tensor([-0.9713, -5.4524, -7.0320, -3.7873, -1.1681], grad_fn=<SubBackward0>)\n",
      "tensor(-2.1259, grad_fn=<NegBackward0>)\n",
      "tensor([0.4298, 0.4191, 0.4208, 0.4198, 0.4368], grad_fn=<SqueezeBackward3>) tensor([-0.9708, -5.4514, -7.0318, -3.7866, -1.1670], grad_fn=<SubBackward0>)\n",
      "tensor(-2.1262, grad_fn=<NegBackward0>)\n",
      "tensor([0.4298, 0.4191, 0.4208, 0.4199, 0.4369], grad_fn=<SqueezeBackward3>) tensor([-0.9703, -5.4504, -7.0315, -3.7859, -1.1659], grad_fn=<SubBackward0>)\n",
      "tensor(-2.1266, grad_fn=<NegBackward0>)\n",
      "tensor([0.4299, 0.4192, 0.4209, 0.4199, 0.4370], grad_fn=<SqueezeBackward3>) tensor([-0.9698, -5.4494, -7.0313, -3.7852, -1.1648], grad_fn=<SubBackward0>)\n",
      "tensor(-2.1270, grad_fn=<NegBackward0>)\n",
      "tensor([0.4300, 0.4193, 0.4209, 0.4200, 0.4371], grad_fn=<SqueezeBackward3>) tensor([-0.9693, -5.4484, -7.0311, -3.7845, -1.1637], grad_fn=<SubBackward0>)\n",
      "tensor(-2.1273, grad_fn=<NegBackward0>)\n",
      "tensor([0.4301, 0.4193, 0.4210, 0.4201, 0.4372], grad_fn=<SqueezeBackward3>) tensor([-0.9688, -5.4473, -7.0309, -3.7838, -1.1626], grad_fn=<SubBackward0>)\n",
      "tensor(-2.1277, grad_fn=<NegBackward0>)\n",
      "tensor([0.4302, 0.4194, 0.4211, 0.4201, 0.4373], grad_fn=<SqueezeBackward3>) tensor([-0.9683, -5.4463, -7.0306, -3.7832, -1.1615], grad_fn=<SubBackward0>)\n",
      "tensor(-2.1280, grad_fn=<NegBackward0>)\n",
      "tensor([0.4303, 0.4194, 0.4211, 0.4202, 0.4374], grad_fn=<SqueezeBackward3>) tensor([-0.9678, -5.4453, -7.0304, -3.7825, -1.1604], grad_fn=<SubBackward0>)\n",
      "tensor(-2.1284, grad_fn=<NegBackward0>)\n",
      "tensor([0.4303, 0.4195, 0.4212, 0.4203, 0.4375], grad_fn=<SqueezeBackward3>) tensor([-0.9672, -5.4443, -7.0302, -3.7818, -1.1593], grad_fn=<SubBackward0>)\n",
      "tensor(-2.1288, grad_fn=<NegBackward0>)\n",
      "tensor([0.4304, 0.4196, 0.4212, 0.4203, 0.4376], grad_fn=<SqueezeBackward3>) tensor([-0.9667, -5.4433, -7.0299, -3.7811, -1.1582], grad_fn=<SubBackward0>)\n",
      "tensor(-2.1291, grad_fn=<NegBackward0>)\n",
      "tensor([0.4305, 0.4196, 0.4213, 0.4204, 0.4377], grad_fn=<SqueezeBackward3>) tensor([-0.9661, -5.4422, -7.0297, -3.7804, -1.1571], grad_fn=<SubBackward0>)\n",
      "tensor(-2.1295, grad_fn=<NegBackward0>)\n",
      "tensor([0.4306, 0.4197, 0.4214, 0.4204, 0.4378], grad_fn=<SqueezeBackward3>) tensor([-0.9656, -5.4412, -7.0295, -3.7797, -1.1561], grad_fn=<SubBackward0>)\n",
      "tensor(-2.1299, grad_fn=<NegBackward0>)\n",
      "tensor([0.4307, 0.4197, 0.4214, 0.4205, 0.4379], grad_fn=<SqueezeBackward3>) tensor([-0.9650, -5.4402, -7.0292, -3.7790, -1.1550], grad_fn=<SubBackward0>)\n",
      "tensor(-2.1302, grad_fn=<NegBackward0>)\n",
      "tensor([0.4308, 0.4198, 0.4215, 0.4206, 0.4380], grad_fn=<SqueezeBackward3>) tensor([-0.9645, -5.4391, -7.0290, -3.7783, -1.1539], grad_fn=<SubBackward0>)\n",
      "tensor(-2.1306, grad_fn=<NegBackward0>)\n",
      "tensor([0.4308, 0.4199, 0.4215, 0.4206, 0.4381], grad_fn=<SqueezeBackward3>) tensor([-0.9639, -5.4381, -7.0287, -3.7776, -1.1528], grad_fn=<SubBackward0>)\n",
      "tensor(-2.1309, grad_fn=<NegBackward0>)\n",
      "tensor([0.4309, 0.4199, 0.4216, 0.4207, 0.4382], grad_fn=<SqueezeBackward3>) tensor([-0.9633, -5.4371, -7.0284, -3.7769, -1.1517], grad_fn=<SubBackward0>)\n",
      "tensor(-2.1313, grad_fn=<NegBackward0>)\n",
      "tensor([0.4310, 0.4200, 0.4217, 0.4208, 0.4383], grad_fn=<SqueezeBackward3>) tensor([-0.9628, -5.4360, -7.0282, -3.7762, -1.1506], grad_fn=<SubBackward0>)\n",
      "tensor(-2.1317, grad_fn=<NegBackward0>)\n",
      "tensor([0.4311, 0.4201, 0.4217, 0.4208, 0.4383], grad_fn=<SqueezeBackward3>) tensor([-0.9622, -5.4350, -7.0279, -3.7755, -1.1496], grad_fn=<SubBackward0>)\n",
      "tensor(-2.1320, grad_fn=<NegBackward0>)\n",
      "tensor([0.4312, 0.4201, 0.4218, 0.4209, 0.4384], grad_fn=<SqueezeBackward3>) tensor([-0.9616, -5.4340, -7.0276, -3.7748, -1.1485], grad_fn=<SubBackward0>)\n",
      "tensor(-2.1324, grad_fn=<NegBackward0>)\n",
      "tensor([0.4313, 0.4202, 0.4218, 0.4210, 0.4385], grad_fn=<SqueezeBackward3>) tensor([-0.9610, -5.4329, -7.0274, -3.7740, -1.1474], grad_fn=<SubBackward0>)\n",
      "tensor(-2.1328, grad_fn=<NegBackward0>)\n",
      "tensor([0.4313, 0.4202, 0.4219, 0.4210, 0.4386], grad_fn=<SqueezeBackward3>) tensor([-0.9604, -5.4319, -7.0271, -3.7733, -1.1463], grad_fn=<SubBackward0>)\n",
      "tensor(-2.1331, grad_fn=<NegBackward0>)\n",
      "tensor([0.4314, 0.4203, 0.4220, 0.4211, 0.4387], grad_fn=<SqueezeBackward3>) tensor([-0.9598, -5.4308, -7.0268, -3.7726, -1.1452], grad_fn=<SubBackward0>)\n",
      "tensor(-2.1335, grad_fn=<NegBackward0>)\n",
      "tensor([0.4315, 0.4204, 0.4220, 0.4212, 0.4388], grad_fn=<SqueezeBackward3>) tensor([-0.9591, -5.4298, -7.0265, -3.7719, -1.1442], grad_fn=<SubBackward0>)\n",
      "tensor(-2.1339, grad_fn=<NegBackward0>)\n",
      "tensor([0.4316, 0.4204, 0.4221, 0.4212, 0.4389], grad_fn=<SqueezeBackward3>) tensor([-0.9585, -5.4287, -7.0263, -3.7712, -1.1431], grad_fn=<SubBackward0>)\n",
      "tensor(-2.1342, grad_fn=<NegBackward0>)\n",
      "tensor([0.4317, 0.4205, 0.4221, 0.4213, 0.4390], grad_fn=<SqueezeBackward3>) tensor([-0.9579, -5.4277, -7.0260, -3.7705, -1.1420], grad_fn=<SubBackward0>)\n",
      "tensor(-2.1346, grad_fn=<NegBackward0>)\n",
      "tensor([0.4318, 0.4206, 0.4222, 0.4213, 0.4391], grad_fn=<SqueezeBackward3>) tensor([-0.9573, -5.4266, -7.0257, -3.7698, -1.1409], grad_fn=<SubBackward0>)\n",
      "tensor(-2.1350, grad_fn=<NegBackward0>)\n",
      "tensor([0.4318, 0.4206, 0.4223, 0.4214, 0.4392], grad_fn=<SqueezeBackward3>) tensor([-0.9566, -5.4256, -7.0254, -3.7690, -1.1399], grad_fn=<SubBackward0>)\n",
      "tensor(-2.1353, grad_fn=<NegBackward0>)\n",
      "tensor([0.4319, 0.4207, 0.4223, 0.4215, 0.4393], grad_fn=<SqueezeBackward3>) tensor([-0.9560, -5.4245, -7.0251, -3.7683, -1.1388], grad_fn=<SubBackward0>)\n",
      "tensor(-2.1357, grad_fn=<NegBackward0>)\n",
      "tensor([0.4320, 0.4207, 0.4224, 0.4215, 0.4394], grad_fn=<SqueezeBackward3>) tensor([-0.9553, -5.4235, -7.0248, -3.7676, -1.1377], grad_fn=<SubBackward0>)\n",
      "tensor(-2.1360, grad_fn=<NegBackward0>)\n",
      "tensor([0.4321, 0.4208, 0.4224, 0.4216, 0.4395], grad_fn=<SqueezeBackward3>) tensor([-0.9547, -5.4224, -7.0245, -3.7669, -1.1366], grad_fn=<SubBackward0>)\n",
      "tensor(-2.1364, grad_fn=<NegBackward0>)\n",
      "tensor([0.4322, 0.4209, 0.4225, 0.4217, 0.4396], grad_fn=<SqueezeBackward3>) tensor([-0.9540, -5.4214, -7.0242, -3.7661, -1.1356], grad_fn=<SubBackward0>)\n",
      "tensor(-2.1368, grad_fn=<NegBackward0>)\n",
      "tensor([0.4323, 0.4209, 0.4226, 0.4217, 0.4397], grad_fn=<SqueezeBackward3>) tensor([-0.9533, -5.4203, -7.0238, -3.7654, -1.1345], grad_fn=<SubBackward0>)\n",
      "tensor(-2.1371, grad_fn=<NegBackward0>)\n",
      "tensor([0.4323, 0.4210, 0.4226, 0.4218, 0.4398], grad_fn=<SqueezeBackward3>) tensor([-0.9526, -5.4193, -7.0235, -3.7647, -1.1334], grad_fn=<SubBackward0>)\n",
      "tensor(-2.1375, grad_fn=<NegBackward0>)\n",
      "tensor([0.4324, 0.4211, 0.4227, 0.4219, 0.4399], grad_fn=<SqueezeBackward3>) tensor([-0.9520, -5.4182, -7.0232, -3.7639, -1.1324], grad_fn=<SubBackward0>)\n",
      "tensor(-2.1379, grad_fn=<NegBackward0>)\n",
      "tensor([0.4325, 0.4211, 0.4227, 0.4219, 0.4400], grad_fn=<SqueezeBackward3>) tensor([-0.9513, -5.4171, -7.0229, -3.7632, -1.1313], grad_fn=<SubBackward0>)\n",
      "tensor(-2.1382, grad_fn=<NegBackward0>)\n",
      "tensor([0.4326, 0.4212, 0.4228, 0.4220, 0.4401], grad_fn=<SqueezeBackward3>) tensor([-0.9506, -5.4161, -7.0225, -3.7625, -1.1302], grad_fn=<SubBackward0>)\n",
      "tensor(-2.1386, grad_fn=<NegBackward0>)\n",
      "tensor([0.4327, 0.4212, 0.4229, 0.4221, 0.4402], grad_fn=<SqueezeBackward3>) tensor([-0.9499, -5.4150, -7.0222, -3.7617, -1.1292], grad_fn=<SubBackward0>)\n",
      "tensor(-2.1390, grad_fn=<NegBackward0>)\n",
      "tensor([0.4328, 0.4213, 0.4229, 0.4221, 0.4403], grad_fn=<SqueezeBackward3>) tensor([-0.9492, -5.4139, -7.0219, -3.7610, -1.1281], grad_fn=<SubBackward0>)\n",
      "tensor(-2.1393, grad_fn=<NegBackward0>)\n",
      "tensor([0.4328, 0.4214, 0.4230, 0.4222, 0.4403], grad_fn=<SqueezeBackward3>) tensor([-0.9485, -5.4129, -7.0215, -3.7603, -1.1270], grad_fn=<SubBackward0>)\n",
      "tensor(-2.1397, grad_fn=<NegBackward0>)\n",
      "tensor([0.4329, 0.4214, 0.4230, 0.4222, 0.4404], grad_fn=<SqueezeBackward3>) tensor([-0.9478, -5.4118, -7.0212, -3.7595, -1.1260], grad_fn=<SubBackward0>)\n",
      "tensor(-2.1401, grad_fn=<NegBackward0>)\n",
      "tensor([0.4330, 0.4215, 0.4231, 0.4223, 0.4405], grad_fn=<SqueezeBackward3>) tensor([-0.9470, -5.4107, -7.0208, -3.7588, -1.1249], grad_fn=<SubBackward0>)\n",
      "tensor(-2.1404, grad_fn=<NegBackward0>)\n",
      "tensor([0.4331, 0.4215, 0.4232, 0.4224, 0.4406], grad_fn=<SqueezeBackward3>) tensor([-0.9463, -5.4097, -7.0205, -3.7580, -1.1238], grad_fn=<SubBackward0>)\n",
      "tensor(-2.1408, grad_fn=<NegBackward0>)\n",
      "tensor([0.4332, 0.4216, 0.4232, 0.4224, 0.4407], grad_fn=<SqueezeBackward3>) tensor([-0.9456, -5.4086, -7.0201, -3.7573, -1.1228], grad_fn=<SubBackward0>)\n",
      "tensor(-2.1412, grad_fn=<NegBackward0>)\n",
      "tensor([0.4333, 0.4217, 0.4233, 0.4225, 0.4408], grad_fn=<SqueezeBackward3>) tensor([-0.9449, -5.4075, -7.0198, -3.7566, -1.1217], grad_fn=<SubBackward0>)\n",
      "tensor(-2.1415, grad_fn=<NegBackward0>)\n",
      "tensor([0.4333, 0.4217, 0.4233, 0.4226, 0.4409], grad_fn=<SqueezeBackward3>) tensor([-0.9441, -5.4064, -7.0194, -3.7558, -1.1207], grad_fn=<SubBackward0>)\n",
      "tensor(-2.1419, grad_fn=<NegBackward0>)\n",
      "tensor([0.4334, 0.4218, 0.4234, 0.4226, 0.4410], grad_fn=<SqueezeBackward3>) tensor([-0.9434, -5.4053, -7.0191, -3.7551, -1.1196], grad_fn=<SubBackward0>)\n",
      "tensor(-2.1423, grad_fn=<NegBackward0>)\n",
      "tensor([0.4335, 0.4219, 0.4235, 0.4227, 0.4411], grad_fn=<SqueezeBackward3>) tensor([-0.9426, -5.4043, -7.0187, -3.7543, -1.1185], grad_fn=<SubBackward0>)\n",
      "tensor(-2.1426, grad_fn=<NegBackward0>)\n",
      "tensor([0.4336, 0.4219, 0.4235, 0.4228, 0.4412], grad_fn=<SqueezeBackward3>) tensor([-0.9419, -5.4032, -7.0183, -3.7535, -1.1175], grad_fn=<SubBackward0>)\n",
      "tensor(-2.1430, grad_fn=<NegBackward0>)\n",
      "tensor([0.4337, 0.4220, 0.4236, 0.4228, 0.4413], grad_fn=<SqueezeBackward3>) tensor([-0.9411, -5.4021, -7.0179, -3.7528, -1.1164], grad_fn=<SubBackward0>)\n",
      "tensor(-2.1434, grad_fn=<NegBackward0>)\n",
      "tensor([0.4338, 0.4220, 0.4236, 0.4229, 0.4414], grad_fn=<SqueezeBackward3>) tensor([-0.9404, -5.4010, -7.0176, -3.7520, -1.1154], grad_fn=<SubBackward0>)\n",
      "tensor(-2.1437, grad_fn=<NegBackward0>)\n",
      "tensor([0.4338, 0.4221, 0.4237, 0.4230, 0.4415], grad_fn=<SqueezeBackward3>) tensor([-0.9396, -5.3999, -7.0172, -3.7513, -1.1143], grad_fn=<SubBackward0>)\n",
      "tensor(-2.1441, grad_fn=<NegBackward0>)\n",
      "tensor([0.4339, 0.4222, 0.4238, 0.4230, 0.4416], grad_fn=<SqueezeBackward3>) tensor([-0.9388, -5.3988, -7.0168, -3.7505, -1.1133], grad_fn=<SubBackward0>)\n",
      "tensor(-2.1445, grad_fn=<NegBackward0>)\n",
      "tensor([0.4340, 0.4222, 0.4238, 0.4231, 0.4417], grad_fn=<SqueezeBackward3>) tensor([-0.9381, -5.3977, -7.0164, -3.7498, -1.1122], grad_fn=<SubBackward0>)\n",
      "tensor(-2.1448, grad_fn=<NegBackward0>)\n",
      "tensor([0.4341, 0.4223, 0.4239, 0.4231, 0.4418], grad_fn=<SqueezeBackward3>) tensor([-0.9373, -5.3966, -7.0160, -3.7490, -1.1112], grad_fn=<SubBackward0>)\n",
      "tensor(-2.1452, grad_fn=<NegBackward0>)\n",
      "tensor([0.4342, 0.4224, 0.4239, 0.4232, 0.4419], grad_fn=<SqueezeBackward3>) tensor([-0.9365, -5.3956, -7.0156, -3.7482, -1.1101], grad_fn=<SubBackward0>)\n",
      "tensor(-2.1456, grad_fn=<NegBackward0>)\n",
      "tensor([0.4343, 0.4224, 0.4240, 0.4233, 0.4420], grad_fn=<SqueezeBackward3>) tensor([-0.9357, -5.3945, -7.0152, -3.7475, -1.1091], grad_fn=<SubBackward0>)\n",
      "tensor(-2.1460, grad_fn=<NegBackward0>)\n",
      "tensor([0.4344, 0.4225, 0.4241, 0.4233, 0.4421], grad_fn=<SqueezeBackward3>) tensor([-0.9349, -5.3934, -7.0148, -3.7467, -1.1080], grad_fn=<SubBackward0>)\n",
      "tensor(-2.1463, grad_fn=<NegBackward0>)\n",
      "tensor([0.4344, 0.4225, 0.4241, 0.4234, 0.4422], grad_fn=<SqueezeBackward3>) tensor([-0.9341, -5.3923, -7.0144, -3.7459, -1.1070], grad_fn=<SubBackward0>)\n",
      "tensor(-2.1467, grad_fn=<NegBackward0>)\n",
      "tensor([0.4345, 0.4226, 0.4242, 0.4235, 0.4423], grad_fn=<SqueezeBackward3>) tensor([-0.9333, -5.3912, -7.0139, -3.7452, -1.1059], grad_fn=<SubBackward0>)\n",
      "tensor(-2.1471, grad_fn=<NegBackward0>)\n",
      "tensor([0.4346, 0.4227, 0.4242, 0.4235, 0.4424], grad_fn=<SqueezeBackward3>) tensor([-0.9325, -5.3900, -7.0135, -3.7444, -1.1049], grad_fn=<SubBackward0>)\n",
      "tensor(-2.1474, grad_fn=<NegBackward0>)\n",
      "tensor([0.4347, 0.4227, 0.4243, 0.4236, 0.4425], grad_fn=<SqueezeBackward3>) tensor([-0.9317, -5.3889, -7.0131, -3.7436, -1.1038], grad_fn=<SubBackward0>)\n",
      "tensor(-2.1478, grad_fn=<NegBackward0>)\n",
      "tensor([0.4348, 0.4228, 0.4244, 0.4237, 0.4426], grad_fn=<SqueezeBackward3>) tensor([-0.9309, -5.3878, -7.0127, -3.7428, -1.1028], grad_fn=<SubBackward0>)\n",
      "tensor(-2.1482, grad_fn=<NegBackward0>)\n",
      "tensor([0.4349, 0.4229, 0.4244, 0.4237, 0.4427], grad_fn=<SqueezeBackward3>) tensor([-0.9301, -5.3867, -7.0122, -3.7420, -1.1017], grad_fn=<SubBackward0>)\n",
      "tensor(-2.1485, grad_fn=<NegBackward0>)\n",
      "tensor([0.4349, 0.4229, 0.4245, 0.4238, 0.4428], grad_fn=<SqueezeBackward3>) tensor([-0.9293, -5.3856, -7.0118, -3.7413, -1.1007], grad_fn=<SubBackward0>)\n",
      "tensor(-2.1489, grad_fn=<NegBackward0>)\n",
      "tensor([0.4350, 0.4230, 0.4245, 0.4239, 0.4429], grad_fn=<SqueezeBackward3>) tensor([-0.9285, -5.3845, -7.0113, -3.7405, -1.0996], grad_fn=<SubBackward0>)\n",
      "tensor(-2.1493, grad_fn=<NegBackward0>)\n",
      "tensor([0.4351, 0.4230, 0.4246, 0.4239, 0.4430], grad_fn=<SqueezeBackward3>) tensor([-0.9277, -5.3834, -7.0109, -3.7397, -1.0986], grad_fn=<SubBackward0>)\n",
      "tensor(-2.1496, grad_fn=<NegBackward0>)\n",
      "tensor([0.4352, 0.4231, 0.4247, 0.4240, 0.4431], grad_fn=<SqueezeBackward3>) tensor([-0.9268, -5.3823, -7.0105, -3.7389, -1.0976], grad_fn=<SubBackward0>)\n",
      "tensor(-2.1500, grad_fn=<NegBackward0>)\n",
      "tensor([0.4353, 0.4232, 0.4247, 0.4240, 0.4432], grad_fn=<SqueezeBackward3>) tensor([-0.9260, -5.3812, -7.0100, -3.7381, -1.0965], grad_fn=<SubBackward0>)\n",
      "tensor(-2.1504, grad_fn=<NegBackward0>)\n",
      "tensor([0.4354, 0.4232, 0.4248, 0.4241, 0.4433], grad_fn=<SqueezeBackward3>) tensor([-0.9252, -5.3800, -7.0095, -3.7373, -1.0955], grad_fn=<SubBackward0>)\n",
      "tensor(-2.1508, grad_fn=<NegBackward0>)\n",
      "tensor([0.4355, 0.4233, 0.4248, 0.4242, 0.4434], grad_fn=<SqueezeBackward3>) tensor([-0.9244, -5.3789, -7.0091, -3.7365, -1.0944], grad_fn=<SubBackward0>)\n",
      "tensor(-2.1511, grad_fn=<NegBackward0>)\n",
      "tensor([0.4355, 0.4233, 0.4249, 0.4242, 0.4435], grad_fn=<SqueezeBackward3>) tensor([-0.9235, -5.3778, -7.0086, -3.7358, -1.0934], grad_fn=<SubBackward0>)\n",
      "tensor(-2.1515, grad_fn=<NegBackward0>)\n",
      "tensor([0.4356, 0.4234, 0.4250, 0.4243, 0.4436], grad_fn=<SqueezeBackward3>) tensor([-0.9227, -5.3767, -7.0081, -3.7350, -1.0924], grad_fn=<SubBackward0>)\n",
      "tensor(-2.1519, grad_fn=<NegBackward0>)\n",
      "tensor([0.4357, 0.4235, 0.4250, 0.4244, 0.4436], grad_fn=<SqueezeBackward3>) tensor([-0.9218, -5.3755, -7.0077, -3.7342, -1.0913], grad_fn=<SubBackward0>)\n",
      "tensor(-2.1522, grad_fn=<NegBackward0>)\n",
      "tensor([0.4358, 0.4235, 0.4251, 0.4244, 0.4437], grad_fn=<SqueezeBackward3>) tensor([-0.9210, -5.3744, -7.0072, -3.7334, -1.0903], grad_fn=<SubBackward0>)\n",
      "tensor(-2.1526, grad_fn=<NegBackward0>)\n"
     ]
    },
    {
     "data": {
      "text/plain": [
       "(tensor([[0.2816, 0.4512],\n",
       "         [0.7196, 0.8424]], requires_grad=True),\n",
       " tensor([ 0.0297, -0.0313], requires_grad=True))"
      ]
     },
     "execution_count": 905,
     "metadata": {},
     "output_type": "execute_result"
    }
   ],
   "source": [
    "l1norm_phi(Xs, W, u)"
   ]
  },
  {
   "cell_type": "code",
   "execution_count": 853,
   "id": "d93e8a81",
   "metadata": {},
   "outputs": [
    {
     "name": "stderr",
     "output_type": "stream",
     "text": [
      "C:\\Users\\Alex\\AppData\\Local\\Temp\\ipykernel_39092\\828025484.py:27: UserWarning: Implicit dimension choice for softmax has been deprecated. Change the call to include dim=X as an argument.\n",
      "  reward = u @ softmax(phi @ X_hat + b)\n"
     ]
    },
    {
     "data": {
      "text/plain": [
       "(tensor([0.7010, 0.8703]), tensor([0.7142, 0.8769], requires_grad=True))"
      ]
     },
     "execution_count": 853,
     "metadata": {},
     "output_type": "execute_result"
    }
   ],
   "source": [
    "X = torch.rand(d)\n",
    "phi = torch.rand((m, d))\n",
    "b = torch.zeros(m)\n",
    "X, softmax_gragent(X, phi, b, u)"
   ]
  },
  {
   "cell_type": "code",
   "execution_count": 821,
   "id": "57ee4831",
   "metadata": {},
   "outputs": [],
   "source": [
    "def classify(X, phi, b):\n",
    "    m, d = phi.shape\n",
    "    one_m = torch.ones(m, dtype=torch.float64)\n",
    "    action = phi @ X + b\n",
    "    return action / (one_m @ action)"
   ]
  },
  {
   "cell_type": "code",
   "execution_count": 822,
   "id": "69dfc366",
   "metadata": {},
   "outputs": [],
   "source": [
    "# classify(X, phi, b), classify(X_hat, phi, b)"
   ]
  },
  {
   "cell_type": "code",
   "execution_count": 834,
   "id": "19bc9969",
   "metadata": {},
   "outputs": [
    {
     "data": {
      "text/plain": [
       "(tensor([[0.5595, 0.0952],\n",
       "         [0.1264, 0.7859]]),\n",
       " tensor([0., 0.]))"
      ]
     },
     "execution_count": 834,
     "metadata": {},
     "output_type": "execute_result"
    }
   ],
   "source": [
    "true_phi, true_b"
   ]
  },
  {
   "cell_type": "code",
   "execution_count": null,
   "id": "43ddaa04",
   "metadata": {},
   "outputs": [],
   "source": [
    "true_phi = torch.rand((m, d))\n",
    "true_b = torch.zeros(m)"
   ]
  },
  {
   "cell_type": "code",
   "execution_count": 833,
   "id": "11310d46",
   "metadata": {},
   "outputs": [
    {
     "data": {
      "text/plain": [
       "<matplotlib.collections.PathCollection at 0x247f2b82520>"
      ]
     },
     "execution_count": 833,
     "metadata": {},
     "output_type": "execute_result"
    },
    {
     "data": {
      "image/png": "[encoded data removed]",
      "text/plain": [
       "<Figure size 432x288 with 1 Axes>"
      ]
     },
     "metadata": {
      "needs_background": "light"
     },
     "output_type": "display_data"
    }
   ],
   "source": [
    "X_x = [np.random.uniform(low=0, high=1) for _ in range(10_000)]\n",
    "X_y = [np.random.uniform(low=0, high=1) for _ in range(10_000)]\n",
    "X = np.array([X_x, X_y]).T\n",
    "Y = [torch.argmax(classify(x, true_phi, true_b)).item() for x in X]\n",
    "plt.scatter(X_x, X_y, c=Y)"
   ]
  },
  {
   "cell_type": "code",
   "execution_count": 861,
   "id": "fb38cb57",
   "metadata": {},
   "outputs": [
    {
     "name": "stderr",
     "output_type": "stream",
     "text": [
      "C:\\Users\\Alex\\AppData\\Local\\Temp\\ipykernel_39092\\828025484.py:27: UserWarning: Implicit dimension choice for softmax has been deprecated. Change the call to include dim=X as an argument.\n",
      "  reward = u @ softmax(phi @ X_hat + b)\n"
     ]
    },
    {
     "data": {
      "text/plain": [
       "[<matplotlib.lines.Line2D at 0x247f58e1280>]"
      ]
     },
     "execution_count": 861,
     "metadata": {},
     "output_type": "execute_result"
    },
    {
     "data": {
      "image/png": "[encoded data removed]",
      "text/plain": [
       "<Figure size 432x288 with 1 Axes>"
      ]
     },
     "metadata": {
      "needs_background": "light"
     },
     "output_type": "display_data"
    }
   ],
   "source": [
    "x_new = torch.tensor([0.5, 0.2])\n",
    "u = torch.tensor([0.3, 0])\n",
    "x_prime = softmax_gragent(x_new, true_phi, true_b, u).detach()\n",
    "\n",
    "plt.gca().set_aspect('equal')\n",
    "plt.scatter(X_x, X_y, c=Y)\n",
    "plt.plot(x_new[0], x_new[1], marker=\"o\", markersize=10, markeredgecolor=\"red\", markerfacecolor=\"red\")\n",
    "plt.plot(x_prime[0], x_prime[1], marker=\"o\", markersize=10, markeredgecolor=\"red\", markerfacecolor=\"red\")"
   ]
  },
  {
   "cell_type": "code",
   "execution_count": 860,
   "id": "557abba6",
   "metadata": {},
   "outputs": [
    {
     "data": {
      "text/plain": [
       "tensor([0.5216, 0.1656])"
      ]
     },
     "execution_count": 860,
     "metadata": {},
     "output_type": "execute_result"
    }
   ],
   "source": [
    "x_prime"
   ]
  },
  {
   "cell_type": "code",
   "execution_count": 870,
   "id": "dc2b9506",
   "metadata": {},
   "outputs": [
    {
     "data": {
      "text/plain": [
       "tensor(5.3704, grad_fn=<SumBackward0>)"
      ]
     },
     "execution_count": 870,
     "metadata": {},
     "output_type": "execute_result"
    }
   ],
   "source": [
    "fake_phi = torch.rand(2,2)\n",
    "fake_phi.requires_grad_(True)\n",
    "res = torch.sum(fake_phi + fake_phi[:,1] * 2)\n",
    "res"
   ]
  },
  {
   "cell_type": "code",
   "execution_count": 871,
   "id": "22e9ecf0",
   "metadata": {},
   "outputs": [],
   "source": [
    "res.backward()"
   ]
  },
  {
   "cell_type": "code",
   "execution_count": 878,
   "id": "840b0b45",
   "metadata": {},
   "outputs": [],
   "source": [
    "n = 5\n",
    "Xs = torch.rand((n, d))\n",
    "W = torch.rand((d, m))"
   ]
  },
  {
   "cell_type": "code",
   "execution_count": 880,
   "id": "39c9da7f",
   "metadata": {},
   "outputs": [
    {
     "ename": "RuntimeError",
     "evalue": "The size of tensor a (5) must match the size of tensor b (2) at non-singleton dimension 1",
     "output_type": "error",
     "traceback": [
      "\u001b[1;31m---------------------------------------------------------------------------\u001b[0m",
      "\u001b[1;31mRuntimeError\u001b[0m                              Traceback (most recent call last)",
      "Input \u001b[1;32mIn [880]\u001b[0m, in \u001b[0;36m<cell line: 1>\u001b[1;34m()\u001b[0m\n\u001b[1;32m----> 1\u001b[0m \u001b[43ml1norm_phi\u001b[49m\u001b[43m(\u001b[49m\u001b[43mXs\u001b[49m\u001b[43m,\u001b[49m\u001b[43m \u001b[49m\u001b[43mW\u001b[49m\u001b[43m,\u001b[49m\u001b[43m \u001b[49m\u001b[43mu\u001b[49m\u001b[43m)\u001b[49m\n",
      "Input \u001b[1;32mIn [877]\u001b[0m, in \u001b[0;36ml1norm_phi\u001b[1;34m(Xs, W, u)\u001b[0m\n\u001b[0;32m     60\u001b[0m \u001b[38;5;28;01mfor\u001b[39;00m _ \u001b[38;5;129;01min\u001b[39;00m \u001b[38;5;28mrange\u001b[39m(\u001b[38;5;241m300\u001b[39m):\n\u001b[0;32m     61\u001b[0m     optimizer\u001b[38;5;241m.\u001b[39mzero_grad()\n\u001b[1;32m---> 62\u001b[0m     loss \u001b[38;5;241m=\u001b[39m \u001b[38;5;241m-\u001b[39m\u001b[43ml1norm_decision_maker_criterion\u001b[49m\u001b[43m(\u001b[49m\u001b[43mXs_hat\u001b[49m\u001b[43m,\u001b[49m\u001b[43m \u001b[49m\u001b[43mXs\u001b[49m\u001b[43m,\u001b[49m\u001b[43m \u001b[49m\u001b[43mphi\u001b[49m\u001b[43m,\u001b[49m\u001b[43m \u001b[49m\u001b[43mb\u001b[49m\u001b[43m,\u001b[49m\u001b[43m \u001b[49m\u001b[43mW\u001b[49m\u001b[43m,\u001b[49m\u001b[43m \u001b[49m\u001b[43mu\u001b[49m\u001b[43m)\u001b[49m\n\u001b[0;32m     63\u001b[0m     loss\u001b[38;5;241m.\u001b[39mbackward()\n\u001b[0;32m     64\u001b[0m     optimizer\u001b[38;5;241m.\u001b[39mstep()\n",
      "Input \u001b[1;32mIn [877]\u001b[0m, in \u001b[0;36ml1norm_decision_maker_criterion\u001b[1;34m(Xs_hat, Xs, phi, b, W, u)\u001b[0m\n\u001b[0;32m     36\u001b[0m d, m \u001b[38;5;241m=\u001b[39m W\u001b[38;5;241m.\u001b[39mshape\n\u001b[0;32m     37\u001b[0m one_m \u001b[38;5;241m=\u001b[39m torch\u001b[38;5;241m.\u001b[39mones(m)\n\u001b[1;32m---> 38\u001b[0m action \u001b[38;5;241m=\u001b[39m \u001b[43mphi\u001b[49m\u001b[43m \u001b[49m\u001b[38;5;241;43m@\u001b[39;49m\u001b[43m \u001b[49m\u001b[43mXs_hat\u001b[49m\u001b[38;5;241;43m.\u001b[39;49m\u001b[43mT\u001b[49m\u001b[43m \u001b[49m\u001b[38;5;241;43m+\u001b[39;49m\u001b[43m \u001b[49m\u001b[43mb\u001b[49m \u001b[38;5;66;03m# md @ dn + m --> mn\u001b[39;00m\n\u001b[0;32m     39\u001b[0m penalty \u001b[38;5;241m=\u001b[39m \u001b[38;5;241m0\u001b[39m\n\u001b[0;32m     40\u001b[0m reward \u001b[38;5;241m=\u001b[39m X \u001b[38;5;241m@\u001b[39m (W \u001b[38;5;241m@\u001b[39m action \u001b[38;5;241m/\u001b[39m (one_m \u001b[38;5;241m@\u001b[39m action)) \u001b[38;5;66;03m# nd @ (dm @ mn / (m @ mn)) --> n\u001b[39;00m\n",
      "\u001b[1;31mRuntimeError\u001b[0m: The size of tensor a (5) must match the size of tensor b (2) at non-singleton dimension 1"
     ]
    }
   ],
   "source": [
    "l1norm_phi(Xs, W, u)"
   ]
  },
  {
   "cell_type": "code",
   "execution_count": 886,
   "id": "f5e0619e",
   "metadata": {},
   "outputs": [
    {
     "data": {
      "text/plain": [
       "tensor([[0.4646, 0.8714, 0.9069, 0.7962, 0.3983],\n",
       "        [0.3173, 0.5402, 0.5802, 0.4952, 0.2943]])"
      ]
     },
     "execution_count": 886,
     "metadata": {},
     "output_type": "execute_result"
    }
   ],
   "source": [
    "phi @ Xs.T + b.reshape(-1, 1)"
   ]
  },
  {
   "cell_type": "code",
   "execution_count": null,
   "id": "695c183f",
   "metadata": {},
   "outputs": [],
   "source": []
  }
 ],
 "metadata": {
  "kernelspec": {
   "display_name": "Python 3 (ipykernel)",
   "language": "python",
   "name": "python3"
  },
  "language_info": {
   "codemirror_mode": {
    "name": "ipython",
    "version": 3
   },
   "file_extension": ".py",
   "mimetype": "text/x-python",
   "name": "python",
   "nbconvert_exporter": "python",
   "pygments_lexer": "ipython3",
   "version": "3.9.12"
  }
 },
 "nbformat": 4,
 "nbformat_minor": 5
}
